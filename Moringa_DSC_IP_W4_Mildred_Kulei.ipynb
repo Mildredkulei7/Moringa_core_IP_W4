{
  "nbformat": 4,
  "nbformat_minor": 0,
  "metadata": {
    "colab": {
      "name": "Moringa_DSC_IP_W4_Mildred_Kulei.ipynb",
      "provenance": [],
      "collapsed_sections": [
        "Wy271CkbhNkN",
        "7nZC8-iKhcHD"
      ],
      "authorship_tag": "ABX9TyPjhKNsMm4LRZJpo0HLqgie",
      "include_colab_link": true
    },
    "kernelspec": {
      "name": "python3",
      "display_name": "Python 3"
    },
    "language_info": {
      "name": "python"
    }
  },
  "cells": [
    {
      "cell_type": "markdown",
      "metadata": {
        "id": "view-in-github",
        "colab_type": "text"
      },
      "source": [
        "<a href=\"https://colab.research.google.com/github/Mildredkulei7/Moringa_core_IP_W4/blob/main/Moringa_DSC_IP_W4_Mildred_Kulei.ipynb\" target=\"_parent\"><img src=\"https://colab.research.google.com/assets/colab-badge.svg\" alt=\"Open In Colab\"/></a>"
      ]
    },
    {
      "cell_type": "markdown",
      "metadata": {
        "id": "6557NcOefoay"
      },
      "source": [
        "# Overview"
      ]
    },
    {
      "cell_type": "markdown",
      "metadata": {
        "id": "y7n910iFfriD"
      },
      "source": [
        "Just like before, we have been tasked to understand electric car usage by solving for another research question. We will work as a Data Scientist for the Autolib electric car-sharing service company to investigate a claim about the blue cars from the provided Autolib dataset.\n",
        "\n",
        "In an effort to do this, we need to identify some areas and periods of interest via sampling stating the reason to the choice of method, then perform hypothesis testing with regards to the claim that we will have made. An example of claim to test would be \"Is the number of Bluecars taken in area X different than in area Y? Is it greater in area X than in area Z? Etc”. The selected periods of interest be either weekdays or weekends but not a mix of both. You can also consider postal codes 75015 vs 75017 to some of the areas of interest. \n",
        "\n",
        "To work on this project, we will perform the following analysis with Python; \n",
        "\n",
        "* Find and deal with outliers, anomalies, and missing data within the dataset.\n",
        "* Plot appropriate univariate and bivariate summaries recording our observations.\n",
        "* Implement the solution by performing hypothesis testing.\n",
        " * This will need to be documented when writing the report."
      ]
    },
    {
      "cell_type": "markdown",
      "metadata": {
        "id": "ESJq8A36nhC5"
      },
      "source": [
        "## 1. Defining The Question"
      ]
    },
    {
      "cell_type": "markdown",
      "metadata": {
        "id": "qlfjanVyfoaA"
      },
      "source": [
        "### A). Specifying the hypothesis claim"
      ]
    },
    {
      "cell_type": "markdown",
      "metadata": {
        "id": "R4Tyee4Onuc_"
      },
      "source": [
        "To investigate a claim that the average number of blue cars taken during weekends is high compared to weekdays."
      ]
    },
    {
      "cell_type": "markdown",
      "metadata": {
        "id": "stXBlDjNf4Ia"
      },
      "source": [
        "### B). Defining metric for success"
      ]
    },
    {
      "cell_type": "markdown",
      "metadata": {
        "id": "VCqa7poXf_tM"
      },
      "source": [
        "Finding if the mean for the blue cars taken during weekends and weekdays."
      ]
    },
    {
      "cell_type": "markdown",
      "metadata": {
        "id": "HQpf4XqwgV_8"
      },
      "source": [
        "### C). Understanding the context"
      ]
    },
    {
      "cell_type": "markdown",
      "metadata": {
        "id": "xWz0cT1ygdcT"
      },
      "source": [
        " We will work as a Data Scientist for the Autolib electric car-sharing service company to investigate a claim about the blue cars from the provided Autolib dataset.\n",
        "\n",
        "In an effort to do this, we need to identify some areas and periods of interest via sampling stating the reason to the choice of method, then perform hypothesis testing with regards to the claim that we will have made. \n",
        "\n",
        "The goal is to test if there are difference in number of blue cars taken during the week and on weekends so as to help the Autolib company plan how they will improve their services to its customers."
      ]
    },
    {
      "cell_type": "markdown",
      "metadata": {
        "id": "RDx9-l0Mh3HK"
      },
      "source": [
        "### D). Recording the experimental Design"
      ]
    },
    {
      "cell_type": "markdown",
      "metadata": {
        "id": "ySRqxo9Xh99q"
      },
      "source": [
        "* 1.Defining the question\n",
        "* 2.Importing the libraries\n",
        "* 3.Reading the data\n",
        "* 4.Data cleaning\n",
        "* 5.Exploratory data analysis(Univeriate and Bivariate summaries)\n",
        "* 6.Hypothesis\n",
        "* 7.Conclusion\n",
        "* 8.Recommendation"
      ]
    },
    {
      "cell_type": "markdown",
      "metadata": {
        "id": "Wy271CkbhNkN"
      },
      "source": [
        "## 2. Importing Libraries"
      ]
    },
    {
      "cell_type": "code",
      "metadata": {
        "id": "nfv5m9hRfAFc"
      },
      "source": [
        "import pandas as pd\n",
        "import numpy as np\n",
        "import seaborn as sns\n",
        "from scipy import stats\n",
        "import matplotlib.pyplot as plt\n",
        "from scipy.stats import norm\n",
        "%matplotlib inline "
      ],
      "execution_count": 49,
      "outputs": []
    },
    {
      "cell_type": "markdown",
      "metadata": {
        "id": "7nZC8-iKhcHD"
      },
      "source": [
        "## 3. Reading The Data"
      ]
    },
    {
      "cell_type": "code",
      "metadata": {
        "colab": {
          "base_uri": "https://localhost:8080/",
          "height": 0
        },
        "id": "FYCEosDzhgqz",
        "outputId": "6198c2a8-9907-4ff9-8702-245d3f5a41fb"
      },
      "source": [
        "#loading the description data\n",
        "variable_definition = pd.read_excel('/content/columns_explanation.xlsx')\n",
        "variable_definition"
      ],
      "execution_count": 2,
      "outputs": [
        {
          "output_type": "execute_result",
          "data": {
            "text/html": [
              "<div>\n",
              "<style scoped>\n",
              "    .dataframe tbody tr th:only-of-type {\n",
              "        vertical-align: middle;\n",
              "    }\n",
              "\n",
              "    .dataframe tbody tr th {\n",
              "        vertical-align: top;\n",
              "    }\n",
              "\n",
              "    .dataframe thead th {\n",
              "        text-align: right;\n",
              "    }\n",
              "</style>\n",
              "<table border=\"1\" class=\"dataframe\">\n",
              "  <thead>\n",
              "    <tr style=\"text-align: right;\">\n",
              "      <th></th>\n",
              "      <th>Column name</th>\n",
              "      <th>explanation</th>\n",
              "    </tr>\n",
              "  </thead>\n",
              "  <tbody>\n",
              "    <tr>\n",
              "      <th>0</th>\n",
              "      <td>Postal code</td>\n",
              "      <td>postal code of the area (in Paris)</td>\n",
              "    </tr>\n",
              "    <tr>\n",
              "      <th>1</th>\n",
              "      <td>date</td>\n",
              "      <td>date of the row aggregation</td>\n",
              "    </tr>\n",
              "    <tr>\n",
              "      <th>2</th>\n",
              "      <td>n_daily_data_points</td>\n",
              "      <td>number of daily data poinst that were availabl...</td>\n",
              "    </tr>\n",
              "    <tr>\n",
              "      <th>3</th>\n",
              "      <td>dayOfWeek</td>\n",
              "      <td>identifier of weekday (0: Monday -&gt; 6: Sunday)</td>\n",
              "    </tr>\n",
              "    <tr>\n",
              "      <th>4</th>\n",
              "      <td>day_type</td>\n",
              "      <td>weekday or weekend</td>\n",
              "    </tr>\n",
              "    <tr>\n",
              "      <th>5</th>\n",
              "      <td>BlueCars_taken_sum</td>\n",
              "      <td>Number of bluecars taken that date in that area</td>\n",
              "    </tr>\n",
              "    <tr>\n",
              "      <th>6</th>\n",
              "      <td>BlueCars_returned_sum</td>\n",
              "      <td>Number of bluecars returned that date in that ...</td>\n",
              "    </tr>\n",
              "    <tr>\n",
              "      <th>7</th>\n",
              "      <td>Utilib_taken_sum</td>\n",
              "      <td>Number of Utilib taken that date in that area</td>\n",
              "    </tr>\n",
              "    <tr>\n",
              "      <th>8</th>\n",
              "      <td>Utilib_returned_sum</td>\n",
              "      <td>Number of Utilib returned that date in that area</td>\n",
              "    </tr>\n",
              "    <tr>\n",
              "      <th>9</th>\n",
              "      <td>Utilib_14_taken_sum</td>\n",
              "      <td>Number of Utilib 1.4 taken that date in that area</td>\n",
              "    </tr>\n",
              "    <tr>\n",
              "      <th>10</th>\n",
              "      <td>Utilib_14_returned_sum</td>\n",
              "      <td>Number of Utilib 1.4 returned that date in tha...</td>\n",
              "    </tr>\n",
              "    <tr>\n",
              "      <th>11</th>\n",
              "      <td>Slots_freed_sum</td>\n",
              "      <td>Number of recharging slots released that date ...</td>\n",
              "    </tr>\n",
              "    <tr>\n",
              "      <th>12</th>\n",
              "      <td>Slots_taken_sum</td>\n",
              "      <td>Number of rechargign slots taken that date in ...</td>\n",
              "    </tr>\n",
              "  </tbody>\n",
              "</table>\n",
              "</div>"
            ],
            "text/plain": [
              "               Column name                                        explanation\n",
              "0              Postal code                 postal code of the area (in Paris)\n",
              "1                     date                        date of the row aggregation\n",
              "2      n_daily_data_points  number of daily data poinst that were availabl...\n",
              "3                dayOfWeek     identifier of weekday (0: Monday -> 6: Sunday)\n",
              "4                 day_type                                 weekday or weekend\n",
              "5       BlueCars_taken_sum    Number of bluecars taken that date in that area\n",
              "6    BlueCars_returned_sum  Number of bluecars returned that date in that ...\n",
              "7         Utilib_taken_sum      Number of Utilib taken that date in that area\n",
              "8      Utilib_returned_sum   Number of Utilib returned that date in that area\n",
              "9      Utilib_14_taken_sum  Number of Utilib 1.4 taken that date in that area\n",
              "10  Utilib_14_returned_sum  Number of Utilib 1.4 returned that date in tha...\n",
              "11         Slots_freed_sum  Number of recharging slots released that date ...\n",
              "12         Slots_taken_sum  Number of rechargign slots taken that date in ..."
            ]
          },
          "metadata": {
            "tags": []
          },
          "execution_count": 2
        }
      ]
    },
    {
      "cell_type": "code",
      "metadata": {
        "colab": {
          "base_uri": "https://localhost:8080/",
          "height": 0
        },
        "id": "dOPhKBsRkC87",
        "outputId": "5b37f565-3046-414d-b1f6-26ca0bbc9340"
      },
      "source": [
        "autolib_df= pd.read_csv('/content/autolib_daily_events_postal_code.csv')\n",
        "autolib_df"
      ],
      "execution_count": 3,
      "outputs": [
        {
          "output_type": "execute_result",
          "data": {
            "text/html": [
              "<div>\n",
              "<style scoped>\n",
              "    .dataframe tbody tr th:only-of-type {\n",
              "        vertical-align: middle;\n",
              "    }\n",
              "\n",
              "    .dataframe tbody tr th {\n",
              "        vertical-align: top;\n",
              "    }\n",
              "\n",
              "    .dataframe thead th {\n",
              "        text-align: right;\n",
              "    }\n",
              "</style>\n",
              "<table border=\"1\" class=\"dataframe\">\n",
              "  <thead>\n",
              "    <tr style=\"text-align: right;\">\n",
              "      <th></th>\n",
              "      <th>Postal code</th>\n",
              "      <th>date</th>\n",
              "      <th>n_daily_data_points</th>\n",
              "      <th>dayOfWeek</th>\n",
              "      <th>day_type</th>\n",
              "      <th>BlueCars_taken_sum</th>\n",
              "      <th>BlueCars_returned_sum</th>\n",
              "      <th>Utilib_taken_sum</th>\n",
              "      <th>Utilib_returned_sum</th>\n",
              "      <th>Utilib_14_taken_sum</th>\n",
              "      <th>Utilib_14_returned_sum</th>\n",
              "      <th>Slots_freed_sum</th>\n",
              "      <th>Slots_taken_sum</th>\n",
              "    </tr>\n",
              "  </thead>\n",
              "  <tbody>\n",
              "    <tr>\n",
              "      <th>0</th>\n",
              "      <td>75001</td>\n",
              "      <td>1/1/2018</td>\n",
              "      <td>1440</td>\n",
              "      <td>0</td>\n",
              "      <td>weekday</td>\n",
              "      <td>110</td>\n",
              "      <td>103</td>\n",
              "      <td>3</td>\n",
              "      <td>2</td>\n",
              "      <td>10</td>\n",
              "      <td>9</td>\n",
              "      <td>22</td>\n",
              "      <td>20</td>\n",
              "    </tr>\n",
              "    <tr>\n",
              "      <th>1</th>\n",
              "      <td>75001</td>\n",
              "      <td>1/2/2018</td>\n",
              "      <td>1438</td>\n",
              "      <td>1</td>\n",
              "      <td>weekday</td>\n",
              "      <td>98</td>\n",
              "      <td>94</td>\n",
              "      <td>1</td>\n",
              "      <td>1</td>\n",
              "      <td>8</td>\n",
              "      <td>8</td>\n",
              "      <td>23</td>\n",
              "      <td>22</td>\n",
              "    </tr>\n",
              "    <tr>\n",
              "      <th>2</th>\n",
              "      <td>75001</td>\n",
              "      <td>1/3/2018</td>\n",
              "      <td>1439</td>\n",
              "      <td>2</td>\n",
              "      <td>weekday</td>\n",
              "      <td>138</td>\n",
              "      <td>139</td>\n",
              "      <td>0</td>\n",
              "      <td>0</td>\n",
              "      <td>2</td>\n",
              "      <td>2</td>\n",
              "      <td>27</td>\n",
              "      <td>27</td>\n",
              "    </tr>\n",
              "    <tr>\n",
              "      <th>3</th>\n",
              "      <td>75001</td>\n",
              "      <td>1/4/2018</td>\n",
              "      <td>1320</td>\n",
              "      <td>3</td>\n",
              "      <td>weekday</td>\n",
              "      <td>104</td>\n",
              "      <td>104</td>\n",
              "      <td>2</td>\n",
              "      <td>2</td>\n",
              "      <td>9</td>\n",
              "      <td>8</td>\n",
              "      <td>25</td>\n",
              "      <td>21</td>\n",
              "    </tr>\n",
              "    <tr>\n",
              "      <th>4</th>\n",
              "      <td>75001</td>\n",
              "      <td>1/5/2018</td>\n",
              "      <td>1440</td>\n",
              "      <td>4</td>\n",
              "      <td>weekday</td>\n",
              "      <td>114</td>\n",
              "      <td>117</td>\n",
              "      <td>3</td>\n",
              "      <td>3</td>\n",
              "      <td>6</td>\n",
              "      <td>6</td>\n",
              "      <td>18</td>\n",
              "      <td>20</td>\n",
              "    </tr>\n",
              "    <tr>\n",
              "      <th>...</th>\n",
              "      <td>...</td>\n",
              "      <td>...</td>\n",
              "      <td>...</td>\n",
              "      <td>...</td>\n",
              "      <td>...</td>\n",
              "      <td>...</td>\n",
              "      <td>...</td>\n",
              "      <td>...</td>\n",
              "      <td>...</td>\n",
              "      <td>...</td>\n",
              "      <td>...</td>\n",
              "      <td>...</td>\n",
              "      <td>...</td>\n",
              "    </tr>\n",
              "    <tr>\n",
              "      <th>16080</th>\n",
              "      <td>95880</td>\n",
              "      <td>6/15/2018</td>\n",
              "      <td>1440</td>\n",
              "      <td>4</td>\n",
              "      <td>weekday</td>\n",
              "      <td>15</td>\n",
              "      <td>10</td>\n",
              "      <td>0</td>\n",
              "      <td>0</td>\n",
              "      <td>2</td>\n",
              "      <td>3</td>\n",
              "      <td>0</td>\n",
              "      <td>0</td>\n",
              "    </tr>\n",
              "    <tr>\n",
              "      <th>16081</th>\n",
              "      <td>95880</td>\n",
              "      <td>6/16/2018</td>\n",
              "      <td>1440</td>\n",
              "      <td>5</td>\n",
              "      <td>weekend</td>\n",
              "      <td>19</td>\n",
              "      <td>19</td>\n",
              "      <td>0</td>\n",
              "      <td>0</td>\n",
              "      <td>2</td>\n",
              "      <td>1</td>\n",
              "      <td>0</td>\n",
              "      <td>0</td>\n",
              "    </tr>\n",
              "    <tr>\n",
              "      <th>16082</th>\n",
              "      <td>95880</td>\n",
              "      <td>6/17/2018</td>\n",
              "      <td>1440</td>\n",
              "      <td>6</td>\n",
              "      <td>weekend</td>\n",
              "      <td>33</td>\n",
              "      <td>35</td>\n",
              "      <td>1</td>\n",
              "      <td>1</td>\n",
              "      <td>0</td>\n",
              "      <td>0</td>\n",
              "      <td>0</td>\n",
              "      <td>0</td>\n",
              "    </tr>\n",
              "    <tr>\n",
              "      <th>16083</th>\n",
              "      <td>95880</td>\n",
              "      <td>6/18/2018</td>\n",
              "      <td>1440</td>\n",
              "      <td>0</td>\n",
              "      <td>weekday</td>\n",
              "      <td>11</td>\n",
              "      <td>14</td>\n",
              "      <td>3</td>\n",
              "      <td>5</td>\n",
              "      <td>2</td>\n",
              "      <td>2</td>\n",
              "      <td>0</td>\n",
              "      <td>0</td>\n",
              "    </tr>\n",
              "    <tr>\n",
              "      <th>16084</th>\n",
              "      <td>95880</td>\n",
              "      <td>6/19/2018</td>\n",
              "      <td>1370</td>\n",
              "      <td>1</td>\n",
              "      <td>weekday</td>\n",
              "      <td>2</td>\n",
              "      <td>2</td>\n",
              "      <td>2</td>\n",
              "      <td>1</td>\n",
              "      <td>0</td>\n",
              "      <td>0</td>\n",
              "      <td>0</td>\n",
              "      <td>0</td>\n",
              "    </tr>\n",
              "  </tbody>\n",
              "</table>\n",
              "<p>16085 rows × 13 columns</p>\n",
              "</div>"
            ],
            "text/plain": [
              "       Postal code       date  ...  Slots_freed_sum  Slots_taken_sum\n",
              "0            75001   1/1/2018  ...               22               20\n",
              "1            75001   1/2/2018  ...               23               22\n",
              "2            75001   1/3/2018  ...               27               27\n",
              "3            75001   1/4/2018  ...               25               21\n",
              "4            75001   1/5/2018  ...               18               20\n",
              "...            ...        ...  ...              ...              ...\n",
              "16080        95880  6/15/2018  ...                0                0\n",
              "16081        95880  6/16/2018  ...                0                0\n",
              "16082        95880  6/17/2018  ...                0                0\n",
              "16083        95880  6/18/2018  ...                0                0\n",
              "16084        95880  6/19/2018  ...                0                0\n",
              "\n",
              "[16085 rows x 13 columns]"
            ]
          },
          "metadata": {
            "tags": []
          },
          "execution_count": 3
        }
      ]
    },
    {
      "cell_type": "code",
      "metadata": {
        "colab": {
          "base_uri": "https://localhost:8080/"
        },
        "id": "zaHGZZQpkPEG",
        "outputId": "d59368ba-1c09-4c70-adbe-fb06fb4225d1"
      },
      "source": [
        "autolib_df.info()"
      ],
      "execution_count": 4,
      "outputs": [
        {
          "output_type": "stream",
          "text": [
            "<class 'pandas.core.frame.DataFrame'>\n",
            "RangeIndex: 16085 entries, 0 to 16084\n",
            "Data columns (total 13 columns):\n",
            " #   Column                  Non-Null Count  Dtype \n",
            "---  ------                  --------------  ----- \n",
            " 0   Postal code             16085 non-null  int64 \n",
            " 1   date                    16085 non-null  object\n",
            " 2   n_daily_data_points     16085 non-null  int64 \n",
            " 3   dayOfWeek               16085 non-null  int64 \n",
            " 4   day_type                16085 non-null  object\n",
            " 5   BlueCars_taken_sum      16085 non-null  int64 \n",
            " 6   BlueCars_returned_sum   16085 non-null  int64 \n",
            " 7   Utilib_taken_sum        16085 non-null  int64 \n",
            " 8   Utilib_returned_sum     16085 non-null  int64 \n",
            " 9   Utilib_14_taken_sum     16085 non-null  int64 \n",
            " 10  Utilib_14_returned_sum  16085 non-null  int64 \n",
            " 11  Slots_freed_sum         16085 non-null  int64 \n",
            " 12  Slots_taken_sum         16085 non-null  int64 \n",
            "dtypes: int64(11), object(2)\n",
            "memory usage: 1.6+ MB\n"
          ],
          "name": "stdout"
        }
      ]
    },
    {
      "cell_type": "code",
      "metadata": {
        "colab": {
          "base_uri": "https://localhost:8080/",
          "height": 0
        },
        "id": "KyzPF5RWqNAS",
        "outputId": "5d6dff5f-9d6d-4ded-9c8f-168f78380448"
      },
      "source": [
        "autolib_df.describe()"
      ],
      "execution_count": 5,
      "outputs": [
        {
          "output_type": "execute_result",
          "data": {
            "text/html": [
              "<div>\n",
              "<style scoped>\n",
              "    .dataframe tbody tr th:only-of-type {\n",
              "        vertical-align: middle;\n",
              "    }\n",
              "\n",
              "    .dataframe tbody tr th {\n",
              "        vertical-align: top;\n",
              "    }\n",
              "\n",
              "    .dataframe thead th {\n",
              "        text-align: right;\n",
              "    }\n",
              "</style>\n",
              "<table border=\"1\" class=\"dataframe\">\n",
              "  <thead>\n",
              "    <tr style=\"text-align: right;\">\n",
              "      <th></th>\n",
              "      <th>Postal code</th>\n",
              "      <th>n_daily_data_points</th>\n",
              "      <th>dayOfWeek</th>\n",
              "      <th>BlueCars_taken_sum</th>\n",
              "      <th>BlueCars_returned_sum</th>\n",
              "      <th>Utilib_taken_sum</th>\n",
              "      <th>Utilib_returned_sum</th>\n",
              "      <th>Utilib_14_taken_sum</th>\n",
              "      <th>Utilib_14_returned_sum</th>\n",
              "      <th>Slots_freed_sum</th>\n",
              "      <th>Slots_taken_sum</th>\n",
              "    </tr>\n",
              "  </thead>\n",
              "  <tbody>\n",
              "    <tr>\n",
              "      <th>count</th>\n",
              "      <td>16085.000000</td>\n",
              "      <td>16085.000000</td>\n",
              "      <td>16085.000000</td>\n",
              "      <td>16085.000000</td>\n",
              "      <td>16085.000000</td>\n",
              "      <td>16085.000000</td>\n",
              "      <td>16085.000000</td>\n",
              "      <td>16085.000000</td>\n",
              "      <td>16085.000000</td>\n",
              "      <td>16085.000000</td>\n",
              "      <td>16085.000000</td>\n",
              "    </tr>\n",
              "    <tr>\n",
              "      <th>mean</th>\n",
              "      <td>88791.293876</td>\n",
              "      <td>1431.330619</td>\n",
              "      <td>2.969599</td>\n",
              "      <td>125.926951</td>\n",
              "      <td>125.912714</td>\n",
              "      <td>3.698290</td>\n",
              "      <td>3.699099</td>\n",
              "      <td>8.600560</td>\n",
              "      <td>8.599192</td>\n",
              "      <td>22.629033</td>\n",
              "      <td>22.629282</td>\n",
              "    </tr>\n",
              "    <tr>\n",
              "      <th>std</th>\n",
              "      <td>7647.342000</td>\n",
              "      <td>33.212050</td>\n",
              "      <td>2.008378</td>\n",
              "      <td>185.426579</td>\n",
              "      <td>185.501535</td>\n",
              "      <td>5.815058</td>\n",
              "      <td>5.824634</td>\n",
              "      <td>12.870098</td>\n",
              "      <td>12.868993</td>\n",
              "      <td>52.120263</td>\n",
              "      <td>52.146030</td>\n",
              "    </tr>\n",
              "    <tr>\n",
              "      <th>min</th>\n",
              "      <td>75001.000000</td>\n",
              "      <td>1174.000000</td>\n",
              "      <td>0.000000</td>\n",
              "      <td>0.000000</td>\n",
              "      <td>0.000000</td>\n",
              "      <td>0.000000</td>\n",
              "      <td>0.000000</td>\n",
              "      <td>0.000000</td>\n",
              "      <td>0.000000</td>\n",
              "      <td>0.000000</td>\n",
              "      <td>0.000000</td>\n",
              "    </tr>\n",
              "    <tr>\n",
              "      <th>25%</th>\n",
              "      <td>91330.000000</td>\n",
              "      <td>1439.000000</td>\n",
              "      <td>1.000000</td>\n",
              "      <td>20.000000</td>\n",
              "      <td>20.000000</td>\n",
              "      <td>0.000000</td>\n",
              "      <td>0.000000</td>\n",
              "      <td>1.000000</td>\n",
              "      <td>1.000000</td>\n",
              "      <td>0.000000</td>\n",
              "      <td>0.000000</td>\n",
              "    </tr>\n",
              "    <tr>\n",
              "      <th>50%</th>\n",
              "      <td>92340.000000</td>\n",
              "      <td>1440.000000</td>\n",
              "      <td>3.000000</td>\n",
              "      <td>46.000000</td>\n",
              "      <td>46.000000</td>\n",
              "      <td>1.000000</td>\n",
              "      <td>1.000000</td>\n",
              "      <td>3.000000</td>\n",
              "      <td>3.000000</td>\n",
              "      <td>0.000000</td>\n",
              "      <td>0.000000</td>\n",
              "    </tr>\n",
              "    <tr>\n",
              "      <th>75%</th>\n",
              "      <td>93400.000000</td>\n",
              "      <td>1440.000000</td>\n",
              "      <td>5.000000</td>\n",
              "      <td>135.000000</td>\n",
              "      <td>135.000000</td>\n",
              "      <td>4.000000</td>\n",
              "      <td>4.000000</td>\n",
              "      <td>10.000000</td>\n",
              "      <td>10.000000</td>\n",
              "      <td>5.000000</td>\n",
              "      <td>5.000000</td>\n",
              "    </tr>\n",
              "    <tr>\n",
              "      <th>max</th>\n",
              "      <td>95880.000000</td>\n",
              "      <td>1440.000000</td>\n",
              "      <td>6.000000</td>\n",
              "      <td>1352.000000</td>\n",
              "      <td>1332.000000</td>\n",
              "      <td>54.000000</td>\n",
              "      <td>58.000000</td>\n",
              "      <td>100.000000</td>\n",
              "      <td>101.000000</td>\n",
              "      <td>360.000000</td>\n",
              "      <td>359.000000</td>\n",
              "    </tr>\n",
              "  </tbody>\n",
              "</table>\n",
              "</div>"
            ],
            "text/plain": [
              "        Postal code  n_daily_data_points  ...  Slots_freed_sum  Slots_taken_sum\n",
              "count  16085.000000         16085.000000  ...     16085.000000     16085.000000\n",
              "mean   88791.293876          1431.330619  ...        22.629033        22.629282\n",
              "std     7647.342000            33.212050  ...        52.120263        52.146030\n",
              "min    75001.000000          1174.000000  ...         0.000000         0.000000\n",
              "25%    91330.000000          1439.000000  ...         0.000000         0.000000\n",
              "50%    92340.000000          1440.000000  ...         0.000000         0.000000\n",
              "75%    93400.000000          1440.000000  ...         5.000000         5.000000\n",
              "max    95880.000000          1440.000000  ...       360.000000       359.000000\n",
              "\n",
              "[8 rows x 11 columns]"
            ]
          },
          "metadata": {
            "tags": []
          },
          "execution_count": 5
        }
      ]
    },
    {
      "cell_type": "markdown",
      "metadata": {
        "id": "NpJomf9yr3Gx"
      },
      "source": [
        "## 4. Data Cleaning"
      ]
    },
    {
      "cell_type": "code",
      "metadata": {
        "colab": {
          "base_uri": "https://localhost:8080/"
        },
        "id": "Ovfsatcvr2rC",
        "outputId": "a056cd6b-57f3-4bce-8982-c9ae133c90df"
      },
      "source": [
        "#checking number of records in the dataset\n",
        "autolib_df.shape"
      ],
      "execution_count": 6,
      "outputs": [
        {
          "output_type": "execute_result",
          "data": {
            "text/plain": [
              "(16085, 13)"
            ]
          },
          "metadata": {
            "tags": []
          },
          "execution_count": 6
        }
      ]
    },
    {
      "cell_type": "markdown",
      "metadata": {
        "id": "SwPmIq6VsYCE"
      },
      "source": [
        "There are 13 columns and 16085 rows of records"
      ]
    },
    {
      "cell_type": "code",
      "metadata": {
        "colab": {
          "base_uri": "https://localhost:8080/"
        },
        "id": "LocxeejptlMC",
        "outputId": "cd5c7c93-a4cd-4c57-abcd-44d664b05877"
      },
      "source": [
        "#checking  for duplicates\n",
        "autolib_df.duplicated().sum()"
      ],
      "execution_count": 7,
      "outputs": [
        {
          "output_type": "execute_result",
          "data": {
            "text/plain": [
              "0"
            ]
          },
          "metadata": {
            "tags": []
          },
          "execution_count": 7
        }
      ]
    },
    {
      "cell_type": "code",
      "metadata": {
        "colab": {
          "base_uri": "https://localhost:8080/"
        },
        "id": "UF4dPcJ6to1b",
        "outputId": "42daf7b5-6237-4651-b6f9-07a9b40346f7"
      },
      "source": [
        "#checking for null values\n",
        "autolib_df.isnull().sum()"
      ],
      "execution_count": 8,
      "outputs": [
        {
          "output_type": "execute_result",
          "data": {
            "text/plain": [
              "Postal code               0\n",
              "date                      0\n",
              "n_daily_data_points       0\n",
              "dayOfWeek                 0\n",
              "day_type                  0\n",
              "BlueCars_taken_sum        0\n",
              "BlueCars_returned_sum     0\n",
              "Utilib_taken_sum          0\n",
              "Utilib_returned_sum       0\n",
              "Utilib_14_taken_sum       0\n",
              "Utilib_14_returned_sum    0\n",
              "Slots_freed_sum           0\n",
              "Slots_taken_sum           0\n",
              "dtype: int64"
            ]
          },
          "metadata": {
            "tags": []
          },
          "execution_count": 8
        }
      ]
    },
    {
      "cell_type": "code",
      "metadata": {
        "colab": {
          "base_uri": "https://localhost:8080/",
          "height": 130
        },
        "id": "pDv0NHagZ0uL",
        "outputId": "815aeaf1-c3d9-407c-9f20-1c02b997ab6a"
      },
      "source": [
        "#renaming some of the colunms, to match the rest of column names\n",
        "autolib_df2 = autolib_df.rename({'Postal code': 'postal_code', 'dayOfWeek': 'day_of_the_week'}, axis=1)\n",
        "autolib_df2.head(2)"
      ],
      "execution_count": 9,
      "outputs": [
        {
          "output_type": "execute_result",
          "data": {
            "text/html": [
              "<div>\n",
              "<style scoped>\n",
              "    .dataframe tbody tr th:only-of-type {\n",
              "        vertical-align: middle;\n",
              "    }\n",
              "\n",
              "    .dataframe tbody tr th {\n",
              "        vertical-align: top;\n",
              "    }\n",
              "\n",
              "    .dataframe thead th {\n",
              "        text-align: right;\n",
              "    }\n",
              "</style>\n",
              "<table border=\"1\" class=\"dataframe\">\n",
              "  <thead>\n",
              "    <tr style=\"text-align: right;\">\n",
              "      <th></th>\n",
              "      <th>postal_code</th>\n",
              "      <th>date</th>\n",
              "      <th>n_daily_data_points</th>\n",
              "      <th>day_of_the_week</th>\n",
              "      <th>day_type</th>\n",
              "      <th>BlueCars_taken_sum</th>\n",
              "      <th>BlueCars_returned_sum</th>\n",
              "      <th>Utilib_taken_sum</th>\n",
              "      <th>Utilib_returned_sum</th>\n",
              "      <th>Utilib_14_taken_sum</th>\n",
              "      <th>Utilib_14_returned_sum</th>\n",
              "      <th>Slots_freed_sum</th>\n",
              "      <th>Slots_taken_sum</th>\n",
              "    </tr>\n",
              "  </thead>\n",
              "  <tbody>\n",
              "    <tr>\n",
              "      <th>0</th>\n",
              "      <td>75001</td>\n",
              "      <td>1/1/2018</td>\n",
              "      <td>1440</td>\n",
              "      <td>0</td>\n",
              "      <td>weekday</td>\n",
              "      <td>110</td>\n",
              "      <td>103</td>\n",
              "      <td>3</td>\n",
              "      <td>2</td>\n",
              "      <td>10</td>\n",
              "      <td>9</td>\n",
              "      <td>22</td>\n",
              "      <td>20</td>\n",
              "    </tr>\n",
              "    <tr>\n",
              "      <th>1</th>\n",
              "      <td>75001</td>\n",
              "      <td>1/2/2018</td>\n",
              "      <td>1438</td>\n",
              "      <td>1</td>\n",
              "      <td>weekday</td>\n",
              "      <td>98</td>\n",
              "      <td>94</td>\n",
              "      <td>1</td>\n",
              "      <td>1</td>\n",
              "      <td>8</td>\n",
              "      <td>8</td>\n",
              "      <td>23</td>\n",
              "      <td>22</td>\n",
              "    </tr>\n",
              "  </tbody>\n",
              "</table>\n",
              "</div>"
            ],
            "text/plain": [
              "   postal_code      date  ...  Slots_freed_sum  Slots_taken_sum\n",
              "0        75001  1/1/2018  ...               22               20\n",
              "1        75001  1/2/2018  ...               23               22\n",
              "\n",
              "[2 rows x 13 columns]"
            ]
          },
          "metadata": {
            "tags": []
          },
          "execution_count": 9
        }
      ]
    },
    {
      "cell_type": "code",
      "metadata": {
        "colab": {
          "base_uri": "https://localhost:8080/",
          "height": 1000
        },
        "id": "b6Hckq1YNwWP",
        "outputId": "7df9de57-0a90-4f82-b362-726646be7aa2"
      },
      "source": [
        "#Checking for outliers\n",
        "col_names =['postal_code','n_daily_data_points', 'day_of_the_week', 'BlueCars_taken_sum', 'BlueCars_returned_sum', 'Utilib_taken_sum', \n",
        "            'Utilib_returned_sum', 'Utilib_14_taken_sum', 'Utilib_14_returned_sum', 'Slots_freed_sum', 'Slots_taken_sum']\n",
        "\n",
        "fig, ax= plt.subplots(len(col_names), figsize=(10,40))\n",
        "\n",
        "for i, col_val in enumerate(col_names):\n",
        "  sns.boxplot(y= autolib_df2[col_val], ax=ax[i])\n",
        "  ax[i].set_title('Box plot - {}'.format(col_val), fontsize=10 )\n",
        "  ax[i].set_xlabel(col_val, fontsize=8)\n",
        "plt.show()\n",
        "\n",
        "#days of the week is the only outlier that does not have outliers"
      ],
      "execution_count": 10,
      "outputs": [
        {
          "output_type": "display_data",
          "data": {
            "image/png": "[encoded data removed]",
            "text/plain": [
              "<Figure size 720x2880 with 11 Axes>"
            ]
          },
          "metadata": {
            "tags": [],
            "needs_background": "light"
          }
        }
      ]
    },
    {
      "cell_type": "markdown",
      "metadata": {
        "id": "yYuBjl3px84s"
      },
      "source": [
        "From the boxplot above we can see that Postal code and daily data points have outliers that need to ba acted upon"
      ]
    },
    {
      "cell_type": "code",
      "metadata": {
        "id": "Paq4qgufxNby"
      },
      "source": [
        "#removing outliers\n",
        "def remove_outlier(col):\n",
        "  sorted(col)\n",
        "  Q1,Q3=col.quantile([0.25,0.75])\n",
        "  IQR=Q3-Q1\n",
        "  Lower_range= Q1-(1.5 * IQR)\n",
        "  Upper_range= Q3+(1.5 * IQR)\n",
        "  return Lower_range, Upper_range"
      ],
      "execution_count": 11,
      "outputs": []
    },
    {
      "cell_type": "code",
      "metadata": {
        "id": "MI2A4fLaxTZc"
      },
      "source": [
        "lowscore,highscore =remove_outlier(autolib_df2['postal_code'])\n",
        "autolib_df2['postal_code']=np.where(autolib_df2['postal_code']>highscore,highscore,autolib_df2['postal_code'])\n",
        "autolib_df2['postal_code']=np.where(autolib_df2['postal_code']<lowscore,lowscore,autolib_df2['postal_code'])"
      ],
      "execution_count": 12,
      "outputs": []
    },
    {
      "cell_type": "code",
      "metadata": {
        "id": "bFOxvHls150e"
      },
      "source": [
        "lowscore,highscore =remove_outlier(autolib_df2['n_daily_data_points'])\n",
        "autolib_df2['n_daily_data_points']=np.where(autolib_df2['n_daily_data_points']>highscore,highscore,autolib_df2['n_daily_data_points'])\n",
        "autolib_df2['n_daily_data_points']=np.where(autolib_df2['n_daily_data_points']<lowscore,lowscore,autolib_df2['n_daily_data_points'])"
      ],
      "execution_count": 13,
      "outputs": []
    },
    {
      "cell_type": "code",
      "metadata": {
        "colab": {
          "base_uri": "https://localhost:8080/",
          "height": 1000
        },
        "id": "7NU85qRN2_kr",
        "outputId": "31d505a3-376d-4524-d2c1-514f5e0dff62"
      },
      "source": [
        "#confirming if the outliers where removed\n",
        "col_names =['n_daily_data_points','postal_code']\n",
        "\n",
        "fig, ax= plt.subplots(len(col_names), figsize=(8,40))\n",
        "\n",
        "for i, col_val in enumerate(col_names):\n",
        "  sns.boxplot(y= autolib_df2[col_val], ax=ax[i])\n",
        "  ax[i].set_title('Box plot - {}'.format(col_val), fontsize=10 )\n",
        "  ax[i].set_xlabel(col_val, fontsize=8)\n",
        "plt.show()"
      ],
      "execution_count": 14,
      "outputs": [
        {
          "output_type": "display_data",
          "data": {
            "image/png": "[encoded data removed]",
            "text/plain": [
              "<Figure size 576x2880 with 2 Axes>"
            ]
          },
          "metadata": {
            "tags": [],
            "needs_background": "light"
          }
        }
      ]
    },
    {
      "cell_type": "code",
      "metadata": {
        "colab": {
          "base_uri": "https://localhost:8080/",
          "height": 417
        },
        "id": "V09LKX9B5192",
        "outputId": "a3720ce2-a3b0-4a01-aea0-f0e2683132df"
      },
      "source": [
        "#deleting columns that we will not use since our focus is only on blue cars\n",
        "\n",
        "autolib_blue = autolib_df2[['date', 'day_type', 'BlueCars_taken_sum']]\n",
        "autolib_blue\n",
        "              "
      ],
      "execution_count": 18,
      "outputs": [
        {
          "output_type": "execute_result",
          "data": {
            "text/html": [
              "<div>\n",
              "<style scoped>\n",
              "    .dataframe tbody tr th:only-of-type {\n",
              "        vertical-align: middle;\n",
              "    }\n",
              "\n",
              "    .dataframe tbody tr th {\n",
              "        vertical-align: top;\n",
              "    }\n",
              "\n",
              "    .dataframe thead th {\n",
              "        text-align: right;\n",
              "    }\n",
              "</style>\n",
              "<table border=\"1\" class=\"dataframe\">\n",
              "  <thead>\n",
              "    <tr style=\"text-align: right;\">\n",
              "      <th></th>\n",
              "      <th>date</th>\n",
              "      <th>day_type</th>\n",
              "      <th>BlueCars_taken_sum</th>\n",
              "    </tr>\n",
              "  </thead>\n",
              "  <tbody>\n",
              "    <tr>\n",
              "      <th>0</th>\n",
              "      <td>1/1/2018</td>\n",
              "      <td>weekday</td>\n",
              "      <td>110</td>\n",
              "    </tr>\n",
              "    <tr>\n",
              "      <th>1</th>\n",
              "      <td>1/2/2018</td>\n",
              "      <td>weekday</td>\n",
              "      <td>98</td>\n",
              "    </tr>\n",
              "    <tr>\n",
              "      <th>2</th>\n",
              "      <td>1/3/2018</td>\n",
              "      <td>weekday</td>\n",
              "      <td>138</td>\n",
              "    </tr>\n",
              "    <tr>\n",
              "      <th>3</th>\n",
              "      <td>1/4/2018</td>\n",
              "      <td>weekday</td>\n",
              "      <td>104</td>\n",
              "    </tr>\n",
              "    <tr>\n",
              "      <th>4</th>\n",
              "      <td>1/5/2018</td>\n",
              "      <td>weekday</td>\n",
              "      <td>114</td>\n",
              "    </tr>\n",
              "    <tr>\n",
              "      <th>...</th>\n",
              "      <td>...</td>\n",
              "      <td>...</td>\n",
              "      <td>...</td>\n",
              "    </tr>\n",
              "    <tr>\n",
              "      <th>16080</th>\n",
              "      <td>6/15/2018</td>\n",
              "      <td>weekday</td>\n",
              "      <td>15</td>\n",
              "    </tr>\n",
              "    <tr>\n",
              "      <th>16081</th>\n",
              "      <td>6/16/2018</td>\n",
              "      <td>weekend</td>\n",
              "      <td>19</td>\n",
              "    </tr>\n",
              "    <tr>\n",
              "      <th>16082</th>\n",
              "      <td>6/17/2018</td>\n",
              "      <td>weekend</td>\n",
              "      <td>33</td>\n",
              "    </tr>\n",
              "    <tr>\n",
              "      <th>16083</th>\n",
              "      <td>6/18/2018</td>\n",
              "      <td>weekday</td>\n",
              "      <td>11</td>\n",
              "    </tr>\n",
              "    <tr>\n",
              "      <th>16084</th>\n",
              "      <td>6/19/2018</td>\n",
              "      <td>weekday</td>\n",
              "      <td>2</td>\n",
              "    </tr>\n",
              "  </tbody>\n",
              "</table>\n",
              "<p>16085 rows × 3 columns</p>\n",
              "</div>"
            ],
            "text/plain": [
              "            date day_type  BlueCars_taken_sum\n",
              "0       1/1/2018  weekday                 110\n",
              "1       1/2/2018  weekday                  98\n",
              "2       1/3/2018  weekday                 138\n",
              "3       1/4/2018  weekday                 104\n",
              "4       1/5/2018  weekday                 114\n",
              "...          ...      ...                 ...\n",
              "16080  6/15/2018  weekday                  15\n",
              "16081  6/16/2018  weekend                  19\n",
              "16082  6/17/2018  weekend                  33\n",
              "16083  6/18/2018  weekday                  11\n",
              "16084  6/19/2018  weekday                   2\n",
              "\n",
              "[16085 rows x 3 columns]"
            ]
          },
          "metadata": {
            "tags": []
          },
          "execution_count": 18
        }
      ]
    },
    {
      "cell_type": "code",
      "metadata": {
        "colab": {
          "base_uri": "https://localhost:8080/",
          "height": 203
        },
        "id": "K2mKVvtTs-qA",
        "outputId": "88d946fc-e326-48d6-dfde-c7579152ce85"
      },
      "source": [
        "autolib_blue.head()"
      ],
      "execution_count": 19,
      "outputs": [
        {
          "output_type": "execute_result",
          "data": {
            "text/html": [
              "<div>\n",
              "<style scoped>\n",
              "    .dataframe tbody tr th:only-of-type {\n",
              "        vertical-align: middle;\n",
              "    }\n",
              "\n",
              "    .dataframe tbody tr th {\n",
              "        vertical-align: top;\n",
              "    }\n",
              "\n",
              "    .dataframe thead th {\n",
              "        text-align: right;\n",
              "    }\n",
              "</style>\n",
              "<table border=\"1\" class=\"dataframe\">\n",
              "  <thead>\n",
              "    <tr style=\"text-align: right;\">\n",
              "      <th></th>\n",
              "      <th>date</th>\n",
              "      <th>day_type</th>\n",
              "      <th>BlueCars_taken_sum</th>\n",
              "    </tr>\n",
              "  </thead>\n",
              "  <tbody>\n",
              "    <tr>\n",
              "      <th>0</th>\n",
              "      <td>1/1/2018</td>\n",
              "      <td>weekday</td>\n",
              "      <td>110</td>\n",
              "    </tr>\n",
              "    <tr>\n",
              "      <th>1</th>\n",
              "      <td>1/2/2018</td>\n",
              "      <td>weekday</td>\n",
              "      <td>98</td>\n",
              "    </tr>\n",
              "    <tr>\n",
              "      <th>2</th>\n",
              "      <td>1/3/2018</td>\n",
              "      <td>weekday</td>\n",
              "      <td>138</td>\n",
              "    </tr>\n",
              "    <tr>\n",
              "      <th>3</th>\n",
              "      <td>1/4/2018</td>\n",
              "      <td>weekday</td>\n",
              "      <td>104</td>\n",
              "    </tr>\n",
              "    <tr>\n",
              "      <th>4</th>\n",
              "      <td>1/5/2018</td>\n",
              "      <td>weekday</td>\n",
              "      <td>114</td>\n",
              "    </tr>\n",
              "  </tbody>\n",
              "</table>\n",
              "</div>"
            ],
            "text/plain": [
              "       date day_type  BlueCars_taken_sum\n",
              "0  1/1/2018  weekday                 110\n",
              "1  1/2/2018  weekday                  98\n",
              "2  1/3/2018  weekday                 138\n",
              "3  1/4/2018  weekday                 104\n",
              "4  1/5/2018  weekday                 114"
            ]
          },
          "metadata": {
            "tags": []
          },
          "execution_count": 19
        }
      ]
    },
    {
      "cell_type": "code",
      "metadata": {
        "colab": {
          "base_uri": "https://localhost:8080/",
          "height": 203
        },
        "id": "4jv9OFtBtC6s",
        "outputId": "d98f209f-e672-4bbe-d912-07e3b50c65b5"
      },
      "source": [
        "autolib_blue.tail()"
      ],
      "execution_count": 20,
      "outputs": [
        {
          "output_type": "execute_result",
          "data": {
            "text/html": [
              "<div>\n",
              "<style scoped>\n",
              "    .dataframe tbody tr th:only-of-type {\n",
              "        vertical-align: middle;\n",
              "    }\n",
              "\n",
              "    .dataframe tbody tr th {\n",
              "        vertical-align: top;\n",
              "    }\n",
              "\n",
              "    .dataframe thead th {\n",
              "        text-align: right;\n",
              "    }\n",
              "</style>\n",
              "<table border=\"1\" class=\"dataframe\">\n",
              "  <thead>\n",
              "    <tr style=\"text-align: right;\">\n",
              "      <th></th>\n",
              "      <th>date</th>\n",
              "      <th>day_type</th>\n",
              "      <th>BlueCars_taken_sum</th>\n",
              "    </tr>\n",
              "  </thead>\n",
              "  <tbody>\n",
              "    <tr>\n",
              "      <th>16080</th>\n",
              "      <td>6/15/2018</td>\n",
              "      <td>weekday</td>\n",
              "      <td>15</td>\n",
              "    </tr>\n",
              "    <tr>\n",
              "      <th>16081</th>\n",
              "      <td>6/16/2018</td>\n",
              "      <td>weekend</td>\n",
              "      <td>19</td>\n",
              "    </tr>\n",
              "    <tr>\n",
              "      <th>16082</th>\n",
              "      <td>6/17/2018</td>\n",
              "      <td>weekend</td>\n",
              "      <td>33</td>\n",
              "    </tr>\n",
              "    <tr>\n",
              "      <th>16083</th>\n",
              "      <td>6/18/2018</td>\n",
              "      <td>weekday</td>\n",
              "      <td>11</td>\n",
              "    </tr>\n",
              "    <tr>\n",
              "      <th>16084</th>\n",
              "      <td>6/19/2018</td>\n",
              "      <td>weekday</td>\n",
              "      <td>2</td>\n",
              "    </tr>\n",
              "  </tbody>\n",
              "</table>\n",
              "</div>"
            ],
            "text/plain": [
              "            date day_type  BlueCars_taken_sum\n",
              "16080  6/15/2018  weekday                  15\n",
              "16081  6/16/2018  weekend                  19\n",
              "16082  6/17/2018  weekend                  33\n",
              "16083  6/18/2018  weekday                  11\n",
              "16084  6/19/2018  weekday                   2"
            ]
          },
          "metadata": {
            "tags": []
          },
          "execution_count": 20
        }
      ]
    },
    {
      "cell_type": "code",
      "metadata": {
        "colab": {
          "base_uri": "https://localhost:8080/"
        },
        "id": "Vx3belkc8ApL",
        "outputId": "53d53954-559a-4684-e7d9-338a7744533c"
      },
      "source": [
        "autolib_blue['date'] = pd.to_datetime(autolib_blue['date'])\n",
        "autolib_blue.info()"
      ],
      "execution_count": 21,
      "outputs": [
        {
          "output_type": "stream",
          "text": [
            "<class 'pandas.core.frame.DataFrame'>\n",
            "RangeIndex: 16085 entries, 0 to 16084\n",
            "Data columns (total 3 columns):\n",
            " #   Column              Non-Null Count  Dtype         \n",
            "---  ------              --------------  -----         \n",
            " 0   date                16085 non-null  datetime64[ns]\n",
            " 1   day_type            16085 non-null  object        \n",
            " 2   BlueCars_taken_sum  16085 non-null  int64         \n",
            "dtypes: datetime64[ns](1), int64(1), object(1)\n",
            "memory usage: 377.1+ KB\n"
          ],
          "name": "stdout"
        },
        {
          "output_type": "stream",
          "text": [
            "/usr/local/lib/python3.7/dist-packages/ipykernel_launcher.py:1: SettingWithCopyWarning: \n",
            "A value is trying to be set on a copy of a slice from a DataFrame.\n",
            "Try using .loc[row_indexer,col_indexer] = value instead\n",
            "\n",
            "See the caveats in the documentation: https://pandas.pydata.org/pandas-docs/stable/user_guide/indexing.html#returning-a-view-versus-a-copy\n",
            "  \"\"\"Entry point for launching an IPython kernel.\n"
          ],
          "name": "stderr"
        }
      ]
    },
    {
      "cell_type": "code",
      "metadata": {
        "colab": {
          "base_uri": "https://localhost:8080/",
          "height": 719
        },
        "id": "BLtcXXym8oEV",
        "outputId": "f9db67b2-c3df-444b-8e5d-35d7fcd0379d"
      },
      "source": [
        "#to separate year, month day in different column\n",
        "autolib_blue['year']= autolib_blue['date'].dt.year\n",
        "autolib_blue['month']= autolib_blue['date'].dt.month\n",
        "autolib_blue['day']= autolib_blue['date'].dt.day\n",
        "autolib_blue"
      ],
      "execution_count": 23,
      "outputs": [
        {
          "output_type": "stream",
          "text": [
            "/usr/local/lib/python3.7/dist-packages/ipykernel_launcher.py:2: SettingWithCopyWarning: \n",
            "A value is trying to be set on a copy of a slice from a DataFrame.\n",
            "Try using .loc[row_indexer,col_indexer] = value instead\n",
            "\n",
            "See the caveats in the documentation: https://pandas.pydata.org/pandas-docs/stable/user_guide/indexing.html#returning-a-view-versus-a-copy\n",
            "  \n",
            "/usr/local/lib/python3.7/dist-packages/ipykernel_launcher.py:3: SettingWithCopyWarning: \n",
            "A value is trying to be set on a copy of a slice from a DataFrame.\n",
            "Try using .loc[row_indexer,col_indexer] = value instead\n",
            "\n",
            "See the caveats in the documentation: https://pandas.pydata.org/pandas-docs/stable/user_guide/indexing.html#returning-a-view-versus-a-copy\n",
            "  This is separate from the ipykernel package so we can avoid doing imports until\n",
            "/usr/local/lib/python3.7/dist-packages/ipykernel_launcher.py:4: SettingWithCopyWarning: \n",
            "A value is trying to be set on a copy of a slice from a DataFrame.\n",
            "Try using .loc[row_indexer,col_indexer] = value instead\n",
            "\n",
            "See the caveats in the documentation: https://pandas.pydata.org/pandas-docs/stable/user_guide/indexing.html#returning-a-view-versus-a-copy\n",
            "  after removing the cwd from sys.path.\n"
          ],
          "name": "stderr"
        },
        {
          "output_type": "execute_result",
          "data": {
            "text/html": [
              "<div>\n",
              "<style scoped>\n",
              "    .dataframe tbody tr th:only-of-type {\n",
              "        vertical-align: middle;\n",
              "    }\n",
              "\n",
              "    .dataframe tbody tr th {\n",
              "        vertical-align: top;\n",
              "    }\n",
              "\n",
              "    .dataframe thead th {\n",
              "        text-align: right;\n",
              "    }\n",
              "</style>\n",
              "<table border=\"1\" class=\"dataframe\">\n",
              "  <thead>\n",
              "    <tr style=\"text-align: right;\">\n",
              "      <th></th>\n",
              "      <th>date</th>\n",
              "      <th>day_type</th>\n",
              "      <th>BlueCars_taken_sum</th>\n",
              "      <th>year</th>\n",
              "      <th>month</th>\n",
              "      <th>day</th>\n",
              "    </tr>\n",
              "  </thead>\n",
              "  <tbody>\n",
              "    <tr>\n",
              "      <th>0</th>\n",
              "      <td>2018-01-01</td>\n",
              "      <td>weekday</td>\n",
              "      <td>110</td>\n",
              "      <td>2018</td>\n",
              "      <td>1</td>\n",
              "      <td>1</td>\n",
              "    </tr>\n",
              "    <tr>\n",
              "      <th>1</th>\n",
              "      <td>2018-01-02</td>\n",
              "      <td>weekday</td>\n",
              "      <td>98</td>\n",
              "      <td>2018</td>\n",
              "      <td>1</td>\n",
              "      <td>2</td>\n",
              "    </tr>\n",
              "    <tr>\n",
              "      <th>2</th>\n",
              "      <td>2018-01-03</td>\n",
              "      <td>weekday</td>\n",
              "      <td>138</td>\n",
              "      <td>2018</td>\n",
              "      <td>1</td>\n",
              "      <td>3</td>\n",
              "    </tr>\n",
              "    <tr>\n",
              "      <th>3</th>\n",
              "      <td>2018-01-04</td>\n",
              "      <td>weekday</td>\n",
              "      <td>104</td>\n",
              "      <td>2018</td>\n",
              "      <td>1</td>\n",
              "      <td>4</td>\n",
              "    </tr>\n",
              "    <tr>\n",
              "      <th>4</th>\n",
              "      <td>2018-01-05</td>\n",
              "      <td>weekday</td>\n",
              "      <td>114</td>\n",
              "      <td>2018</td>\n",
              "      <td>1</td>\n",
              "      <td>5</td>\n",
              "    </tr>\n",
              "    <tr>\n",
              "      <th>...</th>\n",
              "      <td>...</td>\n",
              "      <td>...</td>\n",
              "      <td>...</td>\n",
              "      <td>...</td>\n",
              "      <td>...</td>\n",
              "      <td>...</td>\n",
              "    </tr>\n",
              "    <tr>\n",
              "      <th>16080</th>\n",
              "      <td>2018-06-15</td>\n",
              "      <td>weekday</td>\n",
              "      <td>15</td>\n",
              "      <td>2018</td>\n",
              "      <td>6</td>\n",
              "      <td>15</td>\n",
              "    </tr>\n",
              "    <tr>\n",
              "      <th>16081</th>\n",
              "      <td>2018-06-16</td>\n",
              "      <td>weekend</td>\n",
              "      <td>19</td>\n",
              "      <td>2018</td>\n",
              "      <td>6</td>\n",
              "      <td>16</td>\n",
              "    </tr>\n",
              "    <tr>\n",
              "      <th>16082</th>\n",
              "      <td>2018-06-17</td>\n",
              "      <td>weekend</td>\n",
              "      <td>33</td>\n",
              "      <td>2018</td>\n",
              "      <td>6</td>\n",
              "      <td>17</td>\n",
              "    </tr>\n",
              "    <tr>\n",
              "      <th>16083</th>\n",
              "      <td>2018-06-18</td>\n",
              "      <td>weekday</td>\n",
              "      <td>11</td>\n",
              "      <td>2018</td>\n",
              "      <td>6</td>\n",
              "      <td>18</td>\n",
              "    </tr>\n",
              "    <tr>\n",
              "      <th>16084</th>\n",
              "      <td>2018-06-19</td>\n",
              "      <td>weekday</td>\n",
              "      <td>2</td>\n",
              "      <td>2018</td>\n",
              "      <td>6</td>\n",
              "      <td>19</td>\n",
              "    </tr>\n",
              "  </tbody>\n",
              "</table>\n",
              "<p>16085 rows × 6 columns</p>\n",
              "</div>"
            ],
            "text/plain": [
              "            date day_type  BlueCars_taken_sum  year  month  day\n",
              "0     2018-01-01  weekday                 110  2018      1    1\n",
              "1     2018-01-02  weekday                  98  2018      1    2\n",
              "2     2018-01-03  weekday                 138  2018      1    3\n",
              "3     2018-01-04  weekday                 104  2018      1    4\n",
              "4     2018-01-05  weekday                 114  2018      1    5\n",
              "...          ...      ...                 ...   ...    ...  ...\n",
              "16080 2018-06-15  weekday                  15  2018      6   15\n",
              "16081 2018-06-16  weekend                  19  2018      6   16\n",
              "16082 2018-06-17  weekend                  33  2018      6   17\n",
              "16083 2018-06-18  weekday                  11  2018      6   18\n",
              "16084 2018-06-19  weekday                   2  2018      6   19\n",
              "\n",
              "[16085 rows x 6 columns]"
            ]
          },
          "metadata": {
            "tags": []
          },
          "execution_count": 23
        }
      ]
    },
    {
      "cell_type": "code",
      "metadata": {
        "colab": {
          "base_uri": "https://localhost:8080/",
          "height": 417
        },
        "id": "IMfps09c9XX_",
        "outputId": "3ef042a2-9e50-4533-87c5-7968eef04d63"
      },
      "source": [
        "#drop year column since the dataset is from only one yaer, 2018\n",
        "autolib_blue = autolib_blue.drop(\"year\", axis=1)\n",
        "autolib_blue"
      ],
      "execution_count": 25,
      "outputs": [
        {
          "output_type": "execute_result",
          "data": {
            "text/html": [
              "<div>\n",
              "<style scoped>\n",
              "    .dataframe tbody tr th:only-of-type {\n",
              "        vertical-align: middle;\n",
              "    }\n",
              "\n",
              "    .dataframe tbody tr th {\n",
              "        vertical-align: top;\n",
              "    }\n",
              "\n",
              "    .dataframe thead th {\n",
              "        text-align: right;\n",
              "    }\n",
              "</style>\n",
              "<table border=\"1\" class=\"dataframe\">\n",
              "  <thead>\n",
              "    <tr style=\"text-align: right;\">\n",
              "      <th></th>\n",
              "      <th>date</th>\n",
              "      <th>day_type</th>\n",
              "      <th>BlueCars_taken_sum</th>\n",
              "      <th>month</th>\n",
              "      <th>day</th>\n",
              "    </tr>\n",
              "  </thead>\n",
              "  <tbody>\n",
              "    <tr>\n",
              "      <th>0</th>\n",
              "      <td>2018-01-01</td>\n",
              "      <td>weekday</td>\n",
              "      <td>110</td>\n",
              "      <td>1</td>\n",
              "      <td>1</td>\n",
              "    </tr>\n",
              "    <tr>\n",
              "      <th>1</th>\n",
              "      <td>2018-01-02</td>\n",
              "      <td>weekday</td>\n",
              "      <td>98</td>\n",
              "      <td>1</td>\n",
              "      <td>2</td>\n",
              "    </tr>\n",
              "    <tr>\n",
              "      <th>2</th>\n",
              "      <td>2018-01-03</td>\n",
              "      <td>weekday</td>\n",
              "      <td>138</td>\n",
              "      <td>1</td>\n",
              "      <td>3</td>\n",
              "    </tr>\n",
              "    <tr>\n",
              "      <th>3</th>\n",
              "      <td>2018-01-04</td>\n",
              "      <td>weekday</td>\n",
              "      <td>104</td>\n",
              "      <td>1</td>\n",
              "      <td>4</td>\n",
              "    </tr>\n",
              "    <tr>\n",
              "      <th>4</th>\n",
              "      <td>2018-01-05</td>\n",
              "      <td>weekday</td>\n",
              "      <td>114</td>\n",
              "      <td>1</td>\n",
              "      <td>5</td>\n",
              "    </tr>\n",
              "    <tr>\n",
              "      <th>...</th>\n",
              "      <td>...</td>\n",
              "      <td>...</td>\n",
              "      <td>...</td>\n",
              "      <td>...</td>\n",
              "      <td>...</td>\n",
              "    </tr>\n",
              "    <tr>\n",
              "      <th>16080</th>\n",
              "      <td>2018-06-15</td>\n",
              "      <td>weekday</td>\n",
              "      <td>15</td>\n",
              "      <td>6</td>\n",
              "      <td>15</td>\n",
              "    </tr>\n",
              "    <tr>\n",
              "      <th>16081</th>\n",
              "      <td>2018-06-16</td>\n",
              "      <td>weekend</td>\n",
              "      <td>19</td>\n",
              "      <td>6</td>\n",
              "      <td>16</td>\n",
              "    </tr>\n",
              "    <tr>\n",
              "      <th>16082</th>\n",
              "      <td>2018-06-17</td>\n",
              "      <td>weekend</td>\n",
              "      <td>33</td>\n",
              "      <td>6</td>\n",
              "      <td>17</td>\n",
              "    </tr>\n",
              "    <tr>\n",
              "      <th>16083</th>\n",
              "      <td>2018-06-18</td>\n",
              "      <td>weekday</td>\n",
              "      <td>11</td>\n",
              "      <td>6</td>\n",
              "      <td>18</td>\n",
              "    </tr>\n",
              "    <tr>\n",
              "      <th>16084</th>\n",
              "      <td>2018-06-19</td>\n",
              "      <td>weekday</td>\n",
              "      <td>2</td>\n",
              "      <td>6</td>\n",
              "      <td>19</td>\n",
              "    </tr>\n",
              "  </tbody>\n",
              "</table>\n",
              "<p>16085 rows × 5 columns</p>\n",
              "</div>"
            ],
            "text/plain": [
              "            date day_type  BlueCars_taken_sum  month  day\n",
              "0     2018-01-01  weekday                 110      1    1\n",
              "1     2018-01-02  weekday                  98      1    2\n",
              "2     2018-01-03  weekday                 138      1    3\n",
              "3     2018-01-04  weekday                 104      1    4\n",
              "4     2018-01-05  weekday                 114      1    5\n",
              "...          ...      ...                 ...    ...  ...\n",
              "16080 2018-06-15  weekday                  15      6   15\n",
              "16081 2018-06-16  weekend                  19      6   16\n",
              "16082 2018-06-17  weekend                  33      6   17\n",
              "16083 2018-06-18  weekday                  11      6   18\n",
              "16084 2018-06-19  weekday                   2      6   19\n",
              "\n",
              "[16085 rows x 5 columns]"
            ]
          },
          "metadata": {
            "tags": []
          },
          "execution_count": 25
        }
      ]
    },
    {
      "cell_type": "markdown",
      "metadata": {
        "id": "81-biRr-2aeJ"
      },
      "source": [
        "## 5. EDA"
      ]
    },
    {
      "cell_type": "markdown",
      "metadata": {
        "id": "V2fTcPru2iTD"
      },
      "source": [
        "### A). Univariate Summaries"
      ]
    },
    {
      "cell_type": "code",
      "metadata": {
        "colab": {
          "base_uri": "https://localhost:8080/"
        },
        "id": "OVqjhNx9-5S1",
        "outputId": "f7569ff1-f1fb-4616-97e5-5bb62a4e199e"
      },
      "source": [
        "autolib_blue.info()"
      ],
      "execution_count": 26,
      "outputs": [
        {
          "output_type": "stream",
          "text": [
            "<class 'pandas.core.frame.DataFrame'>\n",
            "RangeIndex: 16085 entries, 0 to 16084\n",
            "Data columns (total 5 columns):\n",
            " #   Column              Non-Null Count  Dtype         \n",
            "---  ------              --------------  -----         \n",
            " 0   date                16085 non-null  datetime64[ns]\n",
            " 1   day_type            16085 non-null  object        \n",
            " 2   BlueCars_taken_sum  16085 non-null  int64         \n",
            " 3   month               16085 non-null  int64         \n",
            " 4   day                 16085 non-null  int64         \n",
            "dtypes: datetime64[ns](1), int64(3), object(1)\n",
            "memory usage: 628.4+ KB\n"
          ],
          "name": "stdout"
        }
      ]
    },
    {
      "cell_type": "code",
      "metadata": {
        "colab": {
          "base_uri": "https://localhost:8080/",
          "height": 316
        },
        "id": "4rfEi6Cw213O",
        "outputId": "3037c9df-c5f5-4fba-c963-9e3ac3f2daa7"
      },
      "source": [
        "autolib_blue['day_type'].value_counts().plot.bar()\n",
        "plt.title('Blue Cars record');"
      ],
      "execution_count": 27,
      "outputs": [
        {
          "output_type": "display_data",
          "data": {
            "image/png": "[encoded data removed]",
            "text/plain": [
              "<Figure size 432x288 with 1 Axes>"
            ]
          },
          "metadata": {
            "tags": [],
            "needs_background": "light"
          }
        }
      ]
    },
    {
      "cell_type": "code",
      "metadata": {
        "colab": {
          "base_uri": "https://localhost:8080/",
          "height": 295
        },
        "id": "LnWGvg5e45Dt",
        "outputId": "7b11a057-833e-4967-e58e-134fc8e46091"
      },
      "source": [
        "autolib_blue.describe()"
      ],
      "execution_count": 28,
      "outputs": [
        {
          "output_type": "execute_result",
          "data": {
            "text/html": [
              "<div>\n",
              "<style scoped>\n",
              "    .dataframe tbody tr th:only-of-type {\n",
              "        vertical-align: middle;\n",
              "    }\n",
              "\n",
              "    .dataframe tbody tr th {\n",
              "        vertical-align: top;\n",
              "    }\n",
              "\n",
              "    .dataframe thead th {\n",
              "        text-align: right;\n",
              "    }\n",
              "</style>\n",
              "<table border=\"1\" class=\"dataframe\">\n",
              "  <thead>\n",
              "    <tr style=\"text-align: right;\">\n",
              "      <th></th>\n",
              "      <th>BlueCars_taken_sum</th>\n",
              "      <th>month</th>\n",
              "      <th>day</th>\n",
              "    </tr>\n",
              "  </thead>\n",
              "  <tbody>\n",
              "    <tr>\n",
              "      <th>count</th>\n",
              "      <td>16085.000000</td>\n",
              "      <td>16085.000000</td>\n",
              "      <td>16085.000000</td>\n",
              "    </tr>\n",
              "    <tr>\n",
              "      <th>mean</th>\n",
              "      <td>125.926951</td>\n",
              "      <td>3.259061</td>\n",
              "      <td>14.849487</td>\n",
              "    </tr>\n",
              "    <tr>\n",
              "      <th>std</th>\n",
              "      <td>185.426579</td>\n",
              "      <td>1.641136</td>\n",
              "      <td>8.845698</td>\n",
              "    </tr>\n",
              "    <tr>\n",
              "      <th>min</th>\n",
              "      <td>0.000000</td>\n",
              "      <td>1.000000</td>\n",
              "      <td>1.000000</td>\n",
              "    </tr>\n",
              "    <tr>\n",
              "      <th>25%</th>\n",
              "      <td>20.000000</td>\n",
              "      <td>2.000000</td>\n",
              "      <td>7.000000</td>\n",
              "    </tr>\n",
              "    <tr>\n",
              "      <th>50%</th>\n",
              "      <td>46.000000</td>\n",
              "      <td>3.000000</td>\n",
              "      <td>14.000000</td>\n",
              "    </tr>\n",
              "    <tr>\n",
              "      <th>75%</th>\n",
              "      <td>135.000000</td>\n",
              "      <td>5.000000</td>\n",
              "      <td>22.000000</td>\n",
              "    </tr>\n",
              "    <tr>\n",
              "      <th>max</th>\n",
              "      <td>1352.000000</td>\n",
              "      <td>6.000000</td>\n",
              "      <td>31.000000</td>\n",
              "    </tr>\n",
              "  </tbody>\n",
              "</table>\n",
              "</div>"
            ],
            "text/plain": [
              "       BlueCars_taken_sum         month           day\n",
              "count        16085.000000  16085.000000  16085.000000\n",
              "mean           125.926951      3.259061     14.849487\n",
              "std            185.426579      1.641136      8.845698\n",
              "min              0.000000      1.000000      1.000000\n",
              "25%             20.000000      2.000000      7.000000\n",
              "50%             46.000000      3.000000     14.000000\n",
              "75%            135.000000      5.000000     22.000000\n",
              "max           1352.000000      6.000000     31.000000"
            ]
          },
          "metadata": {
            "tags": []
          },
          "execution_count": 28
        }
      ]
    },
    {
      "cell_type": "code",
      "metadata": {
        "colab": {
          "base_uri": "https://localhost:8080/"
        },
        "id": "qocApS4u_tB1",
        "outputId": "b723fb73-1616-42fb-af49-3b3884a2a456"
      },
      "source": [
        "#mode of blue cars taken\n",
        "autolib_blue['BlueCars_taken_sum'].mode()\n",
        "#it is unimodal"
      ],
      "execution_count": 30,
      "outputs": [
        {
          "output_type": "execute_result",
          "data": {
            "text/plain": [
              "0    12\n",
              "dtype: int64"
            ]
          },
          "metadata": {
            "tags": []
          },
          "execution_count": 30
        }
      ]
    },
    {
      "cell_type": "code",
      "metadata": {
        "colab": {
          "base_uri": "https://localhost:8080/"
        },
        "id": "fVr2d38Q_75P",
        "outputId": "3cc56c06-3c8a-4f27-a0f5-336aba70b074"
      },
      "source": [
        "#mode of the months\n",
        "autolib_blue['month'].mode()\n",
        "\n",
        "#it is unimodal"
      ],
      "execution_count": 31,
      "outputs": [
        {
          "output_type": "execute_result",
          "data": {
            "text/plain": [
              "0    1\n",
              "dtype: int64"
            ]
          },
          "metadata": {
            "tags": []
          },
          "execution_count": 31
        }
      ]
    },
    {
      "cell_type": "code",
      "metadata": {
        "colab": {
          "base_uri": "https://localhost:8080/"
        },
        "id": "6iS_C_hxAKYI",
        "outputId": "798d60e6-7a3a-4eba-9844-f80e1019c34d"
      },
      "source": [
        "#mode of days\n",
        "autolib_blue['day'].mode()\n",
        "\n",
        "#distribution is trimodal"
      ],
      "execution_count": 32,
      "outputs": [
        {
          "output_type": "execute_result",
          "data": {
            "text/plain": [
              "0    1\n",
              "1    3\n",
              "2    4\n",
              "dtype: int64"
            ]
          },
          "metadata": {
            "tags": []
          },
          "execution_count": 32
        }
      ]
    },
    {
      "cell_type": "code",
      "metadata": {
        "colab": {
          "base_uri": "https://localhost:8080/"
        },
        "id": "sTm7WTRzBVKo",
        "outputId": "5cc4e6c0-058e-4592-d4fc-0bee6080acad"
      },
      "source": [
        "#range\n",
        "\n",
        "print('the range of the blue cars taken is '+ str(autolib_blue['BlueCars_taken_sum'].max() - autolib_blue['BlueCars_taken_sum'].min()))\n",
        "print('the range of the month is '+ str(autolib_blue['month'].max() - autolib_blue['month'].min()))\n",
        "print('the range of the day is '+ str(autolib_blue['day'].max() - autolib_blue['day'].min()))\n",
        "\n",
        "#the range shows that the data was collected in 6 months, there are 1353 records of taken cars, and 31 days in a month."
      ],
      "execution_count": 33,
      "outputs": [
        {
          "output_type": "stream",
          "text": [
            "the range of the blue cars taken is 1352\n",
            "the range of the month is 5\n",
            "the range of the day is 30\n"
          ],
          "name": "stdout"
        }
      ]
    },
    {
      "cell_type": "code",
      "metadata": {
        "colab": {
          "base_uri": "https://localhost:8080/"
        },
        "id": "wPEHLwLDClr_",
        "outputId": "8476f6f1-01d7-4321-d728-31121e6d7e39"
      },
      "source": [
        "#variance\n",
        "\n",
        "autolib_blue['BlueCars_taken_sum'].var()"
      ],
      "execution_count": 34,
      "outputs": [
        {
          "output_type": "execute_result",
          "data": {
            "text/plain": [
              "34383.01611333789"
            ]
          },
          "metadata": {
            "tags": []
          },
          "execution_count": 34
        }
      ]
    },
    {
      "cell_type": "code",
      "metadata": {
        "colab": {
          "base_uri": "https://localhost:8080/"
        },
        "id": "6Js8rTFhCuTL",
        "outputId": "8b59ae55-ee38-4871-c88b-9c889a49aa02"
      },
      "source": [
        "#Variance\n",
        "autolib_blue['month'].var()"
      ],
      "execution_count": 35,
      "outputs": [
        {
          "output_type": "execute_result",
          "data": {
            "text/plain": [
              "2.693328265647899"
            ]
          },
          "metadata": {
            "tags": []
          },
          "execution_count": 35
        }
      ]
    },
    {
      "cell_type": "code",
      "metadata": {
        "colab": {
          "base_uri": "https://localhost:8080/"
        },
        "id": "PrduAm89C4F8",
        "outputId": "80d1f9f6-09ec-4889-8b63-b50e2220f0ff"
      },
      "source": [
        "#variance\n",
        "autolib_blue['day'].var()"
      ],
      "execution_count": 36,
      "outputs": [
        {
          "output_type": "execute_result",
          "data": {
            "text/plain": [
              "78.24636957650931"
            ]
          },
          "metadata": {
            "tags": []
          },
          "execution_count": 36
        }
      ]
    },
    {
      "cell_type": "markdown",
      "metadata": {
        "id": "3uusPvSpDCn3"
      },
      "source": [
        "\n",
        "low variance show how mass of the points are centered around and greater the variance the greater the spread."
      ]
    },
    {
      "cell_type": "code",
      "metadata": {
        "colab": {
          "base_uri": "https://localhost:8080/"
        },
        "id": "xGo3Bh8QDM9g",
        "outputId": "e963a8f9-ebfa-4ee4-f40a-104cedc10f61"
      },
      "source": [
        "#skewness of taken blue cars\n",
        "autolib_blue['BlueCars_taken_sum'].skew()"
      ],
      "execution_count": 37,
      "outputs": [
        {
          "output_type": "execute_result",
          "data": {
            "text/plain": [
              "2.4063548974959086"
            ]
          },
          "metadata": {
            "tags": []
          },
          "execution_count": 37
        }
      ]
    },
    {
      "cell_type": "code",
      "metadata": {
        "colab": {
          "base_uri": "https://localhost:8080/"
        },
        "id": "AsbYULxaDdQ-",
        "outputId": "9fd1452c-0034-4122-e4a7-853b15a4754f"
      },
      "source": [
        "#skewness of the months\n",
        "autolib_blue['month'].skew()"
      ],
      "execution_count": 38,
      "outputs": [
        {
          "output_type": "execute_result",
          "data": {
            "text/plain": [
              "0.14852970996871903"
            ]
          },
          "metadata": {
            "tags": []
          },
          "execution_count": 38
        }
      ]
    },
    {
      "cell_type": "code",
      "metadata": {
        "colab": {
          "base_uri": "https://localhost:8080/"
        },
        "id": "AZ5vhywGDjVX",
        "outputId": "b0be1a91-436f-4f93-d72e-07d150964917"
      },
      "source": [
        "#skewness of the day\n",
        "autolib_blue['day'].skew()"
      ],
      "execution_count": 39,
      "outputs": [
        {
          "output_type": "execute_result",
          "data": {
            "text/plain": [
              "0.12923139864706631"
            ]
          },
          "metadata": {
            "tags": []
          },
          "execution_count": 39
        }
      ]
    },
    {
      "cell_type": "markdown",
      "metadata": {
        "id": "_7jykxbvD2V-"
      },
      "source": [
        "The positive values shows that the tail of data is right-skewed"
      ]
    },
    {
      "cell_type": "code",
      "metadata": {
        "colab": {
          "base_uri": "https://localhost:8080/"
        },
        "id": "60RbmRglDoY6",
        "outputId": "d7763271-49b0-4005-89da-12627a6145ee"
      },
      "source": [
        "#kurtosis of blue cars taken\n",
        "autolib_blue['BlueCars_taken_sum'].kurt()"
      ],
      "execution_count": 40,
      "outputs": [
        {
          "output_type": "execute_result",
          "data": {
            "text/plain": [
              "6.172692305510042"
            ]
          },
          "metadata": {
            "tags": []
          },
          "execution_count": 40
        }
      ]
    },
    {
      "cell_type": "markdown",
      "metadata": {
        "id": "khpdxK_bE4Zv"
      },
      "source": [
        "Positive values of kurtosis indicate that a distribution is peaked and possess thick tails. This is a Leptokurtic distribution."
      ]
    },
    {
      "cell_type": "code",
      "metadata": {
        "colab": {
          "base_uri": "https://localhost:8080/"
        },
        "id": "ZMpqjrKSEDX2",
        "outputId": "551333e5-e7c3-4398-bdfd-ab13da45a779"
      },
      "source": [
        "#kurtosis of the months\n",
        "autolib_blue['month'].kurt()"
      ],
      "execution_count": 41,
      "outputs": [
        {
          "output_type": "execute_result",
          "data": {
            "text/plain": [
              "-1.1113560206749586"
            ]
          },
          "metadata": {
            "tags": []
          },
          "execution_count": 41
        }
      ]
    },
    {
      "cell_type": "code",
      "metadata": {
        "colab": {
          "base_uri": "https://localhost:8080/"
        },
        "id": "ONTuvoyjEDUy",
        "outputId": "3cd5ef34-7c43-4dbf-f251-a5ca8d88f293"
      },
      "source": [
        "#kurtosis of days\n",
        "autolib_blue['day'].kurt()"
      ],
      "execution_count": 42,
      "outputs": [
        {
          "output_type": "execute_result",
          "data": {
            "text/plain": [
              "-1.1889891729784325"
            ]
          },
          "metadata": {
            "tags": []
          },
          "execution_count": 42
        }
      ]
    },
    {
      "cell_type": "markdown",
      "metadata": {
        "id": "E_TTd5zSFE0p"
      },
      "source": [
        "Negative values of kurtosis indicate that a distribution is flat and has thin tails. This is a Platykurtic distribution."
      ]
    },
    {
      "cell_type": "markdown",
      "metadata": {
        "id": "s716EiLu2nEB"
      },
      "source": [
        "### B). Bivariate Summaries"
      ]
    },
    {
      "cell_type": "code",
      "metadata": {
        "colab": {
          "base_uri": "https://localhost:8080/",
          "height": 550
        },
        "id": "87xrtM2H5OIh",
        "outputId": "0e65b946-0c0d-437f-8472-47f2c146ec25"
      },
      "source": [
        "sns.pairplot(autolib_blue)\n",
        "plt.show()\n",
        "##this shows that there is no relationship between the numericals"
      ],
      "execution_count": 29,
      "outputs": [
        {
          "output_type": "display_data",
          "data": {
            "image/png": "[encoded data removed]",
            "text/plain": [
              "<Figure size 540x540 with 12 Axes>"
            ]
          },
          "metadata": {
            "tags": [],
            "needs_background": "light"
          }
        }
      ]
    },
    {
      "cell_type": "code",
      "metadata": {
        "colab": {
          "base_uri": "https://localhost:8080/",
          "height": 270
        },
        "id": "Xrt6BF67FiJe",
        "outputId": "85ebfc99-bbd4-414a-c693-65f80ef753f5"
      },
      "source": [
        "sns.heatmap(autolib_blue.corr(), annot=True)\n",
        "plt.show()\n",
        "#it clearly show how the numerical data have no relationship"
      ],
      "execution_count": 50,
      "outputs": [
        {
          "output_type": "display_data",
          "data": {
            "image/png": "[encoded data removed]",
            "text/plain": [
              "<Figure size 432x288 with 2 Axes>"
            ]
          },
          "metadata": {
            "tags": [],
            "needs_background": "light"
          }
        }
      ]
    },
    {
      "cell_type": "code",
      "metadata": {
        "colab": {
          "base_uri": "https://localhost:8080/",
          "height": 350
        },
        "id": "r1mOH38ZJkj1",
        "outputId": "1ac6a5b5-a77b-4f6c-e689-deb1360c06cf"
      },
      "source": [
        "#plt.figure(figsize=(12,6))\n",
        "plt.title('categorical-numerical relationship')\n",
        "sns.barplot(autolib_blue['day_type'], y= autolib_blue['BlueCars_taken_sum'])\n",
        " \n",
        "# Show the plot\n",
        "plt.show();\n",
        "\n",
        "#it shows the avarage of blue cars taken on weekdays is smaller than on weekends."
      ],
      "execution_count": 58,
      "outputs": [
        {
          "output_type": "stream",
          "text": [
            "/usr/local/lib/python3.7/dist-packages/seaborn/_decorators.py:43: FutureWarning: Pass the following variable as a keyword arg: x. From version 0.12, the only valid positional argument will be `data`, and passing other arguments without an explicit keyword will result in an error or misinterpretation.\n",
            "  FutureWarning\n"
          ],
          "name": "stderr"
        },
        {
          "output_type": "display_data",
          "data": {
            "image/png": "[encoded data removed]",
            "text/plain": [
              "<Figure size 432x288 with 1 Axes>"
            ]
          },
          "metadata": {
            "tags": [],
            "needs_background": "light"
          }
        }
      ]
    },
    {
      "cell_type": "code",
      "metadata": {
        "colab": {
          "base_uri": "https://localhost:8080/",
          "height": 234
        },
        "id": "3rykzb4BNVKM",
        "outputId": "8575f49e-6262-44c7-87ce-694139c41046"
      },
      "source": [
        "#grouping mean of blue cars taken by the type of month\n",
        "month_type= autolib_blue.groupby(['month'], as_index=False)['BlueCars_taken_sum'].mean().sort_values(by='BlueCars_taken_sum',ascending=False)\n",
        "month_type"
      ],
      "execution_count": 65,
      "outputs": [
        {
          "output_type": "execute_result",
          "data": {
            "text/html": [
              "<div>\n",
              "<style scoped>\n",
              "    .dataframe tbody tr th:only-of-type {\n",
              "        vertical-align: middle;\n",
              "    }\n",
              "\n",
              "    .dataframe tbody tr th {\n",
              "        vertical-align: top;\n",
              "    }\n",
              "\n",
              "    .dataframe thead th {\n",
              "        text-align: right;\n",
              "    }\n",
              "</style>\n",
              "<table border=\"1\" class=\"dataframe\">\n",
              "  <thead>\n",
              "    <tr style=\"text-align: right;\">\n",
              "      <th></th>\n",
              "      <th>month</th>\n",
              "      <th>BlueCars_taken_sum</th>\n",
              "    </tr>\n",
              "  </thead>\n",
              "  <tbody>\n",
              "    <tr>\n",
              "      <th>5</th>\n",
              "      <td>6</td>\n",
              "      <td>131.380102</td>\n",
              "    </tr>\n",
              "    <tr>\n",
              "      <th>4</th>\n",
              "      <td>5</td>\n",
              "      <td>127.436959</td>\n",
              "    </tr>\n",
              "    <tr>\n",
              "      <th>2</th>\n",
              "      <td>3</td>\n",
              "      <td>127.231083</td>\n",
              "    </tr>\n",
              "    <tr>\n",
              "      <th>0</th>\n",
              "      <td>1</td>\n",
              "      <td>126.189045</td>\n",
              "    </tr>\n",
              "    <tr>\n",
              "      <th>3</th>\n",
              "      <td>4</td>\n",
              "      <td>124.467679</td>\n",
              "    </tr>\n",
              "    <tr>\n",
              "      <th>1</th>\n",
              "      <td>2</td>\n",
              "      <td>120.368442</td>\n",
              "    </tr>\n",
              "  </tbody>\n",
              "</table>\n",
              "</div>"
            ],
            "text/plain": [
              "   month  BlueCars_taken_sum\n",
              "5      6          131.380102\n",
              "4      5          127.436959\n",
              "2      3          127.231083\n",
              "0      1          126.189045\n",
              "3      4          124.467679\n",
              "1      2          120.368442"
            ]
          },
          "metadata": {
            "tags": []
          },
          "execution_count": 65
        }
      ]
    },
    {
      "cell_type": "code",
      "metadata": {
        "colab": {
          "base_uri": "https://localhost:8080/",
          "height": 349
        },
        "id": "1ODv-XELPDvp",
        "outputId": "6cde0b3d-ee8a-4c10-8a8a-79997b5e0120"
      },
      "source": [
        "plt.title('categorical-numerical relationship')\n",
        "sns.barplot(month_type['month'], y= month_type['BlueCars_taken_sum'])\n",
        " \n",
        "# Show the plot\n",
        "plt.show();"
      ],
      "execution_count": 70,
      "outputs": [
        {
          "output_type": "stream",
          "text": [
            "/usr/local/lib/python3.7/dist-packages/seaborn/_decorators.py:43: FutureWarning: Pass the following variable as a keyword arg: x. From version 0.12, the only valid positional argument will be `data`, and passing other arguments without an explicit keyword will result in an error or misinterpretation.\n",
            "  FutureWarning\n"
          ],
          "name": "stderr"
        },
        {
          "output_type": "display_data",
          "data": {
            "image/png": "[encoded data removed]",
            "text/plain": [
              "<Figure size 432x288 with 1 Axes>"
            ]
          },
          "metadata": {
            "tags": [],
            "needs_background": "light"
          }
        }
      ]
    },
    {
      "cell_type": "markdown",
      "metadata": {
        "id": "ODpj1T6MPud-"
      },
      "source": [
        "## 6. Hypothesis testing"
      ]
    },
    {
      "cell_type": "markdown",
      "metadata": {
        "id": "Gqsd91SxWYYw"
      },
      "source": [
        "Null Hypothesis: There is no difference in the average number of blue cars taken during the week and on weekends.\n",
        "\n",
        "Alternate Hypothesis: There is difference in the average number of blue cars taken during the week and on weekends(claim)"
      ]
    },
    {
      "cell_type": "code",
      "metadata": {
        "colab": {
          "base_uri": "https://localhost:8080/",
          "height": 417
        },
        "id": "G_04lLZCPuAL",
        "outputId": "42146049-bb1d-4422-b8e5-91cbd2171be5"
      },
      "source": [
        "#taking a stratified sample of month 6.\n",
        "\n",
        "autolib_blue_final= autolib_blue[(autolib_blue['month']== 6)]\n",
        "autolib_blue_final"
      ],
      "execution_count": 71,
      "outputs": [
        {
          "output_type": "execute_result",
          "data": {
            "text/html": [
              "<div>\n",
              "<style scoped>\n",
              "    .dataframe tbody tr th:only-of-type {\n",
              "        vertical-align: middle;\n",
              "    }\n",
              "\n",
              "    .dataframe tbody tr th {\n",
              "        vertical-align: top;\n",
              "    }\n",
              "\n",
              "    .dataframe thead th {\n",
              "        text-align: right;\n",
              "    }\n",
              "</style>\n",
              "<table border=\"1\" class=\"dataframe\">\n",
              "  <thead>\n",
              "    <tr style=\"text-align: right;\">\n",
              "      <th></th>\n",
              "      <th>date</th>\n",
              "      <th>day_type</th>\n",
              "      <th>BlueCars_taken_sum</th>\n",
              "      <th>month</th>\n",
              "      <th>day</th>\n",
              "    </tr>\n",
              "  </thead>\n",
              "  <tbody>\n",
              "    <tr>\n",
              "      <th>137</th>\n",
              "      <td>2018-06-01</td>\n",
              "      <td>weekday</td>\n",
              "      <td>116</td>\n",
              "      <td>6</td>\n",
              "      <td>1</td>\n",
              "    </tr>\n",
              "    <tr>\n",
              "      <th>138</th>\n",
              "      <td>2018-06-02</td>\n",
              "      <td>weekend</td>\n",
              "      <td>254</td>\n",
              "      <td>6</td>\n",
              "      <td>2</td>\n",
              "    </tr>\n",
              "    <tr>\n",
              "      <th>139</th>\n",
              "      <td>2018-06-03</td>\n",
              "      <td>weekend</td>\n",
              "      <td>196</td>\n",
              "      <td>6</td>\n",
              "      <td>3</td>\n",
              "    </tr>\n",
              "    <tr>\n",
              "      <th>140</th>\n",
              "      <td>2018-06-04</td>\n",
              "      <td>weekday</td>\n",
              "      <td>99</td>\n",
              "      <td>6</td>\n",
              "      <td>4</td>\n",
              "    </tr>\n",
              "    <tr>\n",
              "      <th>141</th>\n",
              "      <td>2018-06-05</td>\n",
              "      <td>weekday</td>\n",
              "      <td>137</td>\n",
              "      <td>6</td>\n",
              "      <td>5</td>\n",
              "    </tr>\n",
              "    <tr>\n",
              "      <th>...</th>\n",
              "      <td>...</td>\n",
              "      <td>...</td>\n",
              "      <td>...</td>\n",
              "      <td>...</td>\n",
              "      <td>...</td>\n",
              "    </tr>\n",
              "    <tr>\n",
              "      <th>16080</th>\n",
              "      <td>2018-06-15</td>\n",
              "      <td>weekday</td>\n",
              "      <td>15</td>\n",
              "      <td>6</td>\n",
              "      <td>15</td>\n",
              "    </tr>\n",
              "    <tr>\n",
              "      <th>16081</th>\n",
              "      <td>2018-06-16</td>\n",
              "      <td>weekend</td>\n",
              "      <td>19</td>\n",
              "      <td>6</td>\n",
              "      <td>16</td>\n",
              "    </tr>\n",
              "    <tr>\n",
              "      <th>16082</th>\n",
              "      <td>2018-06-17</td>\n",
              "      <td>weekend</td>\n",
              "      <td>33</td>\n",
              "      <td>6</td>\n",
              "      <td>17</td>\n",
              "    </tr>\n",
              "    <tr>\n",
              "      <th>16083</th>\n",
              "      <td>2018-06-18</td>\n",
              "      <td>weekday</td>\n",
              "      <td>11</td>\n",
              "      <td>6</td>\n",
              "      <td>18</td>\n",
              "    </tr>\n",
              "    <tr>\n",
              "      <th>16084</th>\n",
              "      <td>2018-06-19</td>\n",
              "      <td>weekday</td>\n",
              "      <td>2</td>\n",
              "      <td>6</td>\n",
              "      <td>19</td>\n",
              "    </tr>\n",
              "  </tbody>\n",
              "</table>\n",
              "<p>1960 rows × 5 columns</p>\n",
              "</div>"
            ],
            "text/plain": [
              "            date day_type  BlueCars_taken_sum  month  day\n",
              "137   2018-06-01  weekday                 116      6    1\n",
              "138   2018-06-02  weekend                 254      6    2\n",
              "139   2018-06-03  weekend                 196      6    3\n",
              "140   2018-06-04  weekday                  99      6    4\n",
              "141   2018-06-05  weekday                 137      6    5\n",
              "...          ...      ...                 ...    ...  ...\n",
              "16080 2018-06-15  weekday                  15      6   15\n",
              "16081 2018-06-16  weekend                  19      6   16\n",
              "16082 2018-06-17  weekend                  33      6   17\n",
              "16083 2018-06-18  weekday                  11      6   18\n",
              "16084 2018-06-19  weekday                   2      6   19\n",
              "\n",
              "[1960 rows x 5 columns]"
            ]
          },
          "metadata": {
            "tags": []
          },
          "execution_count": 71
        }
      ]
    },
    {
      "cell_type": "code",
      "metadata": {
        "id": "f81CDoazROH8"
      },
      "source": [
        "#dividing the dataset into two in regards to the type of the week\n",
        "weekday = autolib_blue_final[(autolib_blue_final['day_type']=='weekday')]\n",
        "weekend = autolib_blue_final[(autolib_blue_final['day_type']=='weekend')]"
      ],
      "execution_count": 72,
      "outputs": []
    },
    {
      "cell_type": "code",
      "metadata": {
        "colab": {
          "base_uri": "https://localhost:8080/",
          "height": 203
        },
        "id": "WA1r_hHaRo2V",
        "outputId": "7143c1bf-f9c0-42fe-e0f1-1366a488b8e9"
      },
      "source": [
        "weekday.head()"
      ],
      "execution_count": 75,
      "outputs": [
        {
          "output_type": "execute_result",
          "data": {
            "text/html": [
              "<div>\n",
              "<style scoped>\n",
              "    .dataframe tbody tr th:only-of-type {\n",
              "        vertical-align: middle;\n",
              "    }\n",
              "\n",
              "    .dataframe tbody tr th {\n",
              "        vertical-align: top;\n",
              "    }\n",
              "\n",
              "    .dataframe thead th {\n",
              "        text-align: right;\n",
              "    }\n",
              "</style>\n",
              "<table border=\"1\" class=\"dataframe\">\n",
              "  <thead>\n",
              "    <tr style=\"text-align: right;\">\n",
              "      <th></th>\n",
              "      <th>date</th>\n",
              "      <th>day_type</th>\n",
              "      <th>BlueCars_taken_sum</th>\n",
              "      <th>month</th>\n",
              "      <th>day</th>\n",
              "    </tr>\n",
              "  </thead>\n",
              "  <tbody>\n",
              "    <tr>\n",
              "      <th>137</th>\n",
              "      <td>2018-06-01</td>\n",
              "      <td>weekday</td>\n",
              "      <td>116</td>\n",
              "      <td>6</td>\n",
              "      <td>1</td>\n",
              "    </tr>\n",
              "    <tr>\n",
              "      <th>140</th>\n",
              "      <td>2018-06-04</td>\n",
              "      <td>weekday</td>\n",
              "      <td>99</td>\n",
              "      <td>6</td>\n",
              "      <td>4</td>\n",
              "    </tr>\n",
              "    <tr>\n",
              "      <th>141</th>\n",
              "      <td>2018-06-05</td>\n",
              "      <td>weekday</td>\n",
              "      <td>137</td>\n",
              "      <td>6</td>\n",
              "      <td>5</td>\n",
              "    </tr>\n",
              "    <tr>\n",
              "      <th>142</th>\n",
              "      <td>2018-06-06</td>\n",
              "      <td>weekday</td>\n",
              "      <td>109</td>\n",
              "      <td>6</td>\n",
              "      <td>6</td>\n",
              "    </tr>\n",
              "    <tr>\n",
              "      <th>143</th>\n",
              "      <td>2018-06-07</td>\n",
              "      <td>weekday</td>\n",
              "      <td>113</td>\n",
              "      <td>6</td>\n",
              "      <td>7</td>\n",
              "    </tr>\n",
              "  </tbody>\n",
              "</table>\n",
              "</div>"
            ],
            "text/plain": [
              "          date day_type  BlueCars_taken_sum  month  day\n",
              "137 2018-06-01  weekday                 116      6    1\n",
              "140 2018-06-04  weekday                  99      6    4\n",
              "141 2018-06-05  weekday                 137      6    5\n",
              "142 2018-06-06  weekday                 109      6    6\n",
              "143 2018-06-07  weekday                 113      6    7"
            ]
          },
          "metadata": {
            "tags": []
          },
          "execution_count": 75
        }
      ]
    },
    {
      "cell_type": "code",
      "metadata": {
        "colab": {
          "base_uri": "https://localhost:8080/",
          "height": 203
        },
        "id": "_WzrrcWYRzAr",
        "outputId": "781c7efc-c384-4db9-cede-066765ea32e2"
      },
      "source": [
        "weekend.head()"
      ],
      "execution_count": 76,
      "outputs": [
        {
          "output_type": "execute_result",
          "data": {
            "text/html": [
              "<div>\n",
              "<style scoped>\n",
              "    .dataframe tbody tr th:only-of-type {\n",
              "        vertical-align: middle;\n",
              "    }\n",
              "\n",
              "    .dataframe tbody tr th {\n",
              "        vertical-align: top;\n",
              "    }\n",
              "\n",
              "    .dataframe thead th {\n",
              "        text-align: right;\n",
              "    }\n",
              "</style>\n",
              "<table border=\"1\" class=\"dataframe\">\n",
              "  <thead>\n",
              "    <tr style=\"text-align: right;\">\n",
              "      <th></th>\n",
              "      <th>date</th>\n",
              "      <th>day_type</th>\n",
              "      <th>BlueCars_taken_sum</th>\n",
              "      <th>month</th>\n",
              "      <th>day</th>\n",
              "    </tr>\n",
              "  </thead>\n",
              "  <tbody>\n",
              "    <tr>\n",
              "      <th>138</th>\n",
              "      <td>2018-06-02</td>\n",
              "      <td>weekend</td>\n",
              "      <td>254</td>\n",
              "      <td>6</td>\n",
              "      <td>2</td>\n",
              "    </tr>\n",
              "    <tr>\n",
              "      <th>139</th>\n",
              "      <td>2018-06-03</td>\n",
              "      <td>weekend</td>\n",
              "      <td>196</td>\n",
              "      <td>6</td>\n",
              "      <td>3</td>\n",
              "    </tr>\n",
              "    <tr>\n",
              "      <th>145</th>\n",
              "      <td>2018-06-09</td>\n",
              "      <td>weekend</td>\n",
              "      <td>185</td>\n",
              "      <td>6</td>\n",
              "      <td>9</td>\n",
              "    </tr>\n",
              "    <tr>\n",
              "      <th>146</th>\n",
              "      <td>2018-06-10</td>\n",
              "      <td>weekend</td>\n",
              "      <td>146</td>\n",
              "      <td>6</td>\n",
              "      <td>10</td>\n",
              "    </tr>\n",
              "    <tr>\n",
              "      <th>152</th>\n",
              "      <td>2018-06-16</td>\n",
              "      <td>weekend</td>\n",
              "      <td>203</td>\n",
              "      <td>6</td>\n",
              "      <td>16</td>\n",
              "    </tr>\n",
              "  </tbody>\n",
              "</table>\n",
              "</div>"
            ],
            "text/plain": [
              "          date day_type  BlueCars_taken_sum  month  day\n",
              "138 2018-06-02  weekend                 254      6    2\n",
              "139 2018-06-03  weekend                 196      6    3\n",
              "145 2018-06-09  weekend                 185      6    9\n",
              "146 2018-06-10  weekend                 146      6   10\n",
              "152 2018-06-16  weekend                 203      6   16"
            ]
          },
          "metadata": {
            "tags": []
          },
          "execution_count": 76
        }
      ]
    },
    {
      "cell_type": "code",
      "metadata": {
        "colab": {
          "base_uri": "https://localhost:8080/"
        },
        "id": "4UVxHJLqU4bx",
        "outputId": "95db2f1a-2433-4fd7-df1a-251f4369963b"
      },
      "source": [
        "weekday.shape[0]\n",
        "#there are 1338 records in weekday dataset"
      ],
      "execution_count": 85,
      "outputs": [
        {
          "output_type": "execute_result",
          "data": {
            "text/plain": [
              "1338"
            ]
          },
          "metadata": {
            "tags": []
          },
          "execution_count": 85
        }
      ]
    },
    {
      "cell_type": "code",
      "metadata": {
        "colab": {
          "base_uri": "https://localhost:8080/"
        },
        "id": "cCcrM_JNU9Si",
        "outputId": "42f78d2a-9e59-4906-9c6b-5a13d4d4ae07"
      },
      "source": [
        "weekend.shape[0]\n",
        "#there are 622 records in weekend dataset"
      ],
      "execution_count": 86,
      "outputs": [
        {
          "output_type": "execute_result",
          "data": {
            "text/plain": [
              "622"
            ]
          },
          "metadata": {
            "tags": []
          },
          "execution_count": 86
        }
      ]
    },
    {
      "cell_type": "code",
      "metadata": {
        "id": "roXeJvt5SGe2"
      },
      "source": [
        "#calculating the mean, standard deviation and the sample size of both weekday and weekend datasets\n",
        "m1, m2 = weekday['BlueCars_taken_sum'].mean(), weekend['BlueCars_taken_sum'].mean()\n",
        "sd1, sd2 = weekday['BlueCars_taken_sum'].std(), weekend['BlueCars_taken_sum'].std()\n",
        "n1, n2 = weekday.shape[0], weekend.shape[0]"
      ],
      "execution_count": 77,
      "outputs": []
    },
    {
      "cell_type": "code",
      "metadata": {
        "id": "LevhBgUOUPbS"
      },
      "source": [
        "def TwoSampZ(X1, X2, sigma1, sigma2, N1, N2):\n",
        "    from numpy import sqrt, abs, round\n",
        "    from scipy.stats import norm\n",
        "    ovr_sigma = sqrt(sigma1**2/N1 + sigma2**2/N2)\n",
        "    z = (X1 - X2)/ovr_sigma\n",
        "    pval = 2*(1 - norm.cdf(abs(z)))\n",
        "    return z, pval"
      ],
      "execution_count": 82,
      "outputs": []
    },
    {
      "cell_type": "code",
      "metadata": {
        "colab": {
          "base_uri": "https://localhost:8080/"
        },
        "id": "GHWZeT9NTmUz",
        "outputId": "b6e715b9-f103-4110-9238-f6884714e13c"
      },
      "source": [
        "#confidence level of 95%\n",
        "#calculating the z score and p value of the two sample\n",
        "z, p = TwoSampZ(m1, m2, sd1, sd2, n1, n2)\n",
        "p_val = p\n",
        "print('Z score is:', z)\n",
        "print('P value is:', p_val)"
      ],
      "execution_count": 100,
      "outputs": [
        {
          "output_type": "stream",
          "text": [
            "Z score is: -4.301068738930045\n",
            "P value is: 1.6997631802739832e-05\n"
          ],
          "name": "stdout"
        }
      ]
    },
    {
      "cell_type": "code",
      "metadata": {
        "colab": {
          "base_uri": "https://localhost:8080/"
        },
        "id": "iH7GnFseV39p",
        "outputId": "d626c89f-4bf1-41aa-e648-c7d56037ab99"
      },
      "source": [
        "if (p_val<0.05):\n",
        "    Hypothesis_Status = 'Reject Null Hypothesis : Significant'\n",
        "else:\n",
        "    Hypothesis_Status = 'Do not reject Null Hypothesis : Not Significant'\n",
        "\n",
        "print (Hypothesis_Status)"
      ],
      "execution_count": 95,
      "outputs": [
        {
          "output_type": "stream",
          "text": [
            "Reject Null Hypothesis : Significant\n"
          ],
          "name": "stdout"
        }
      ]
    },
    {
      "cell_type": "markdown",
      "metadata": {
        "id": "ab_dqPJZYBbr"
      },
      "source": [
        "## 7. Conclusion"
      ]
    },
    {
      "cell_type": "markdown",
      "metadata": {
        "id": "P6cUnQNsYFFe"
      },
      "source": [
        "The hypothesis test clearly show us that the null hypothesis is wrong, so we accept the alternative hypothesis and conclude that there is enough evidence that the blue cars taken on weekends are higher than blue cars taken on weekdays."
      ]
    },
    {
      "cell_type": "markdown",
      "metadata": {
        "id": "2ihAYOXqjBrq"
      },
      "source": [
        "## 8. Recommendation"
      ]
    },
    {
      "cell_type": "markdown",
      "metadata": {
        "id": "448G2JPfjGD8"
      },
      "source": [
        "From the Anlysis and test done above, i recommend that the autolib company provide more cars during the weekends and have enough personel who will handle their service to ensure smooth operation."
      ]
    }
  ]
}